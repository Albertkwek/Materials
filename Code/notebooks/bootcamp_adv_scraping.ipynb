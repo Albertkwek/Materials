{
 "cells": [
  {
   "cell_type": "markdown",
   "metadata": {
    "collapsed": true
   },
   "source": [
    "# Web scraping\n",
    "\n",
    "**Date: 28 March 2017**\n",
    "\n",
    "@author: Daniel Csaba\n"
   ]
  },
  {
   "cell_type": "markdown",
   "metadata": {},
   "source": [
    "## Preliminaries \n",
    "\n",
    "Import usual packages.  "
   ]
  },
  {
   "cell_type": "code",
   "execution_count": 1,
   "metadata": {
    "collapsed": false
   },
   "outputs": [],
   "source": [
    "import pandas as pd             # data package\n",
    "import matplotlib.pyplot as plt # graphics \n",
    "import datetime as dt           # date tools, used to note current date  \n",
    "\n",
    "%matplotlib inline"
   ]
  },
  {
   "cell_type": "markdown",
   "metadata": {},
   "source": [
    "We have seen how to input data from `csv` and `xls` files -- either online or from our computer and through APIs. Sometimes the data is only available as specific part of a website.\n",
    "\n",
    "We want to access the source code of the website and systematically extract the relevant information."
   ]
  },
  {
   "cell_type": "markdown",
   "metadata": {},
   "source": [
    "Again, use Google fu to find useful links. Here are a couple:\n",
    "* [link 1](https://www.dataquest.io/blog/web-scraping-tutorial-python/)\n",
    "* [link 2](http://blog.danwin.com/examples-of-web-scraping-in-python-3-x-for-data-journalists/)\n",
    "* [link 3](https://www.analyticsvidhya.com/blog/2015/10/beginner-guide-web-scraping-beautiful-soup-python/)"
   ]
  },
  {
   "cell_type": "markdown",
   "metadata": {},
   "source": [
    "## Structure of web pages (very simplistic)\n",
    "\n",
    "`Hypertext Markup Language` (HTML) specifies the structure and main content of the site -- tells the browser how to layout content. Think of `Markdown`.\n",
    "\n",
    "It is structured using tags.\n",
    "\n",
    "```html\n",
    "<html>\n",
    "    <head>\n",
    "        (Meta) Information about the page.\n",
    "    </head>\n",
    "    <body>\n",
    "        <p>\n",
    "            This is a paragraph.\n",
    "        </p>\n",
    "        <table>\n",
    "            This is a table\n",
    "        </table>\n",
    "    </body>\n",
    "</html>\n",
    "```"
   ]
  },
  {
   "cell_type": "markdown",
   "metadata": {},
   "source": [
    "`Tag`s determine the content and layout depending on their relation to other tags. Useful terminology:\n",
    "\n",
    "* `child` -- a child is a tag inside another tag. The `p` tag above is a child of the `body` tag.\n",
    "* `parent` --  a parent is the tag another tag is inside. The `body` tag above is a parent of the `p` tag.\n",
    "* `sibling` -- a sibling is a tag that is nested inside the same parent as another tag. The `head` and `body` tags above are siblings.\n",
    "\n",
    "There are many different tags -- take a look at a [reference list](https://developer.mozilla.org/en-US/docs/Web/HTML/Element). You won't and shouldn't remember all of them but it's useful to have a rough idea about them.\n",
    "\n",
    "And take a look at a real example -- open page, then right click:  \"View Page Source\""
   ]
  },
  {
   "cell_type": "markdown",
   "metadata": {},
   "source": [
    "In the real example you will see that there is more information after the tag, most commanly a `class` and an `id`. Something similar to the following:\n",
    "\n",
    "```html\n",
    "<html>\n",
    "    <head class='main-head'>\n",
    "        (Meta) Information about the page.\n",
    "    </head>\n",
    "    <body>\n",
    "        <p class='inner-paragraph' id='001'>\n",
    "            This is a paragraph.\n",
    "        </p>\n",
    "        <table class='inner-table' id='002'>\n",
    "            This is a table\n",
    "        </table>\n",
    "    </body>\n",
    "</html>\n",
    "```\n",
    "The `class` and `id` information will help us in locating the information we are looking for in a systematic way.\n",
    "\n",
    "Useful way to explore the `html` and the corresponding website is right clicking on the web page and then clicking on `Inspect element` -- interpretation of the html by the browser\n"
   ]
  },
  {
   "cell_type": "markdown",
   "metadata": {},
   "source": [
    "Suppose we want to check prices for renting a room in Manhattan in Craigslist. Let's check for example the `rooms & shares` section for the [East Village](https://newyork.craigslist.org/search/roo?query=east+village&availabilityMode=0)."
   ]
  },
  {
   "cell_type": "markdown",
   "metadata": {},
   "source": [
    "## Accessing web pages \n",
    "\n",
    "We have to download the content of the webpage -- i.e. get the contents structured by the HTML. This we can do with the `requests` library, which is a human readable HTTP (HyperText Transfer Protocol) library for python. You cna find the Quickstart Documentation [here](http://docs.python-requests.org/en/master/user/quickstart/)."
   ]
  },
  {
   "cell_type": "code",
   "execution_count": 2,
   "metadata": {
    "collapsed": true
   },
   "outputs": [],
   "source": [
    "import requests # you might have to install this"
   ]
  },
  {
   "cell_type": "code",
   "execution_count": 3,
   "metadata": {
    "collapsed": false
   },
   "outputs": [],
   "source": [
    "url = 'https://newyork.craigslist.org/search/roo?query=east+village&availabilityMode=0'\n",
    "cl = requests.get(url)"
   ]
  },
  {
   "cell_type": "markdown",
   "metadata": {},
   "source": [
    "You might want to query for different things and download information for all of them. You can pass this as extra information."
   ]
  },
  {
   "cell_type": "code",
   "execution_count": 4,
   "metadata": {
    "collapsed": true
   },
   "outputs": [],
   "source": [
    "url = 'https://newyork.craigslist.org/search/roo'\n",
    "keys = {'query' : 'east village', 'availabilityMode' : '0'}\n",
    "cl_extra = requests.get(url, params=keys)"
   ]
  },
  {
   "cell_type": "code",
   "execution_count": 5,
   "metadata": {
    "collapsed": false
   },
   "outputs": [
    {
     "data": {
      "text/plain": [
       "'https://newyork.craigslist.org/search/roo?availabilityMode=0&query=east+village'"
      ]
     },
     "execution_count": 5,
     "metadata": {},
     "output_type": "execute_result"
    }
   ],
   "source": [
    "# see if the URL was specified successfully\n",
    "cl_extra.url"
   ]
  },
  {
   "cell_type": "code",
   "execution_count": 6,
   "metadata": {
    "collapsed": false,
    "scrolled": true
   },
   "outputs": [
    {
     "data": {
      "text/plain": [
       "requests.models.Response"
      ]
     },
     "execution_count": 6,
     "metadata": {},
     "output_type": "execute_result"
    }
   ],
   "source": [
    "type(cl)"
   ]
  },
  {
   "cell_type": "code",
   "execution_count": 7,
   "metadata": {
    "collapsed": false
   },
   "outputs": [
    {
     "data": {
      "text/plain": [
       "<Response [200]>"
      ]
     },
     "execution_count": 7,
     "metadata": {},
     "output_type": "execute_result"
    }
   ],
   "source": [
    "cl"
   ]
  },
  {
   "cell_type": "markdown",
   "metadata": {},
   "source": [
    "The `[200]` stands for the `status_code` which carries information whether the download was succesful. If it starts with 2 it's a good sign, 4 or 5 not so much."
   ]
  },
  {
   "cell_type": "code",
   "execution_count": 8,
   "metadata": {
    "collapsed": false
   },
   "outputs": [
    {
     "data": {
      "text/plain": [
       "200"
      ]
     },
     "execution_count": 8,
     "metadata": {},
     "output_type": "execute_result"
    }
   ],
   "source": [
    "cl.status_code"
   ]
  },
  {
   "cell_type": "markdown",
   "metadata": {},
   "source": [
    "Check tab completion"
   ]
  },
  {
   "cell_type": "code",
   "execution_count": 9,
   "metadata": {
    "collapsed": false
   },
   "outputs": [
    {
     "data": {
      "text/plain": [
       "'https://newyork.craigslist.org/search/roo?query=east+village&availabilityMode=0'"
      ]
     },
     "execution_count": 9,
     "metadata": {},
     "output_type": "execute_result"
    }
   ],
   "source": [
    "cl.url"
   ]
  },
  {
   "cell_type": "markdown",
   "metadata": {},
   "source": [
    "This is going to be ugly and unreadable"
   ]
  },
  {
   "cell_type": "code",
   "execution_count": null,
   "metadata": {
    "collapsed": true
   },
   "outputs": [],
   "source": [
    "cl.text"
   ]
  },
  {
   "cell_type": "code",
   "execution_count": null,
   "metadata": {
    "collapsed": false,
    "scrolled": true
   },
   "outputs": [],
   "source": [
    "cl.content # this works also for information which is not purely text"
   ]
  },
  {
   "cell_type": "markdown",
   "metadata": {},
   "source": [
    "## Extracting information from a web page \n",
    "\n",
    "Now that we have the content of the web page we want to extraxt certain information. `BeautifulSoup` is a Python package which helps us in doing that. See the [documentation](https://www.crummy.com/software/BeautifulSoup/bs4/doc/) for more information.\n"
   ]
  },
  {
   "cell_type": "code",
   "execution_count": 10,
   "metadata": {
    "collapsed": true
   },
   "outputs": [],
   "source": [
    "from bs4 import BeautifulSoup"
   ]
  },
  {
   "cell_type": "code",
   "execution_count": null,
   "metadata": {
    "collapsed": true
   },
   "outputs": [],
   "source": [
    "BeautifulSoup?"
   ]
  },
  {
   "cell_type": "code",
   "execution_count": 11,
   "metadata": {
    "collapsed": false
   },
   "outputs": [],
   "source": [
    "cl_soup = BeautifulSoup(cl.content, 'html.parser')"
   ]
  },
  {
   "cell_type": "markdown",
   "metadata": {},
   "source": [
    "Print this out in a prettier way."
   ]
  },
  {
   "cell_type": "code",
   "execution_count": null,
   "metadata": {
    "collapsed": false,
    "scrolled": true
   },
   "outputs": [],
   "source": [
    "print(cl_soup.prettify())"
   ]
  },
  {
   "cell_type": "code",
   "execution_count": 12,
   "metadata": {
    "collapsed": false
   },
   "outputs": [
    {
     "name": "stdout",
     "output_type": "stream",
     "text": [
      "Type: <class 'bs4.BeautifulSoup'>\n"
     ]
    }
   ],
   "source": [
    "print('Type:', type(cl_soup))"
   ]
  },
  {
   "cell_type": "code",
   "execution_count": 13,
   "metadata": {
    "collapsed": false,
    "scrolled": true
   },
   "outputs": [
    {
     "name": "stdout",
     "output_type": "stream",
     "text": [
      "Title:  <title>new york rooms for rent &amp; shares available \"east village\" - craigslist</title>\n"
     ]
    }
   ],
   "source": [
    "# we can access a tag \n",
    "print('Title: ', cl_soup.title)"
   ]
  },
  {
   "cell_type": "code",
   "execution_count": 14,
   "metadata": {
    "collapsed": false
   },
   "outputs": [
    {
     "name": "stdout",
     "output_type": "stream",
     "text": [
      "Title:  new york rooms for rent & shares available \"east village\" - craigslist\n",
      "Title:  new york rooms for rent & shares available \"east village\" - craigslist\n"
     ]
    }
   ],
   "source": [
    "# or only the text content\n",
    "print('Title: ', cl_soup.title.text) # or\n",
    "print('Title: ', cl_soup.title.get_text())"
   ]
  },
  {
   "cell_type": "markdown",
   "metadata": {},
   "source": [
    "We can find all tags of certain type with the `find_all` method. This returns a list."
   ]
  },
  {
   "cell_type": "code",
   "execution_count": null,
   "metadata": {
    "collapsed": false
   },
   "outputs": [],
   "source": [
    "cl_soup.find_all?"
   ]
  },
  {
   "cell_type": "markdown",
   "metadata": {},
   "source": [
    "To get the first paragraph in the html write"
   ]
  },
  {
   "cell_type": "code",
   "execution_count": 15,
   "metadata": {
    "collapsed": false
   },
   "outputs": [
    {
     "data": {
      "text/plain": [
       "<p class=\"result-info\">\n",
       "<span class=\"icon icon-star\" role=\"button\">\n",
       "<span class=\"screen-reader-text\">favorite this post</span>\n",
       "</span>\n",
       "<time class=\"result-date\" datetime=\"2017-03-30 11:28\" title=\"Thu 30 Mar 11:28:04 AM\">Mar 30</time>\n",
       "<a class=\"result-title hdrlnk\" data-id=\"6066575750\" href=\"/mnh/roo/6066575750.html\">** Free laundry! - MOVE IN to an East Village, PreWar Apt, etc -- PICS</a>\n",
       "<span class=\"result-meta\">\n",
       "<span class=\"result-price\">$1850</span>\n",
       "<span class=\"housing\">\n",
       "                    950ft<sup>2</sup> -\n",
       "                </span>\n",
       "<span class=\"result-hood\"> (East Village)</span>\n",
       "<span class=\"result-tags\">\n",
       "                    pic\n",
       "                    <span class=\"maptag\" data-pid=\"6066575750\">map</span>\n",
       "</span>\n",
       "<span class=\"banish icon icon-trash\" role=\"button\">\n",
       "<span class=\"screen-reader-text\">hide this posting</span>\n",
       "</span>\n",
       "<span aria-hidden=\"true\" class=\"unbanish icon icon-trash red\" role=\"button\"></span>\n",
       "<a class=\"restore-link\" href=\"#\">\n",
       "<span class=\"restore-narrow-text\">restore</span>\n",
       "<span class=\"restore-wide-text\">restore this posting</span>\n",
       "</a>\n",
       "</span>\n",
       "</p>"
      ]
     },
     "execution_count": 15,
     "metadata": {},
     "output_type": "execute_result"
    }
   ],
   "source": [
    "cl_soup.find_all('p')[0]"
   ]
  },
  {
   "cell_type": "markdown",
   "metadata": {},
   "source": [
    "This is a lot of information and we want to extract some part of it. Use the `text` or `get_text()` method to get the text content."
   ]
  },
  {
   "cell_type": "code",
   "execution_count": 16,
   "metadata": {
    "collapsed": false
   },
   "outputs": [
    {
     "data": {
      "text/plain": [
       "'\\n\\nfavorite this post\\n\\nMar 30\\n** Free laundry! - MOVE IN to an East Village, PreWar Apt, etc -- PICS\\n\\n$1850\\n\\n                    950ft2 -\\n                \\n (East Village)\\n\\n                    pic\\n                    map\\n\\n\\nhide this posting\\n\\n\\n\\nrestore\\nrestore this posting\\n\\n\\n'"
      ]
     },
     "execution_count": 16,
     "metadata": {},
     "output_type": "execute_result"
    }
   ],
   "source": [
    "cl_soup.find_all('p')[0].get_text()"
   ]
  },
  {
   "cell_type": "markdown",
   "metadata": {},
   "source": [
    "This is still messy. We will need a smarter search."
   ]
  },
  {
   "cell_type": "markdown",
   "metadata": {},
   "source": [
    "We can also access the `children` of a certain tag. For example here are the children of the first paragraph tag."
   ]
  },
  {
   "cell_type": "code",
   "execution_count": 17,
   "metadata": {
    "collapsed": false
   },
   "outputs": [
    {
     "data": {
      "text/plain": [
       "['\\n', <span class=\"icon icon-star\" role=\"button\">\n",
       " <span class=\"screen-reader-text\">favorite this post</span>\n",
       " </span>, '\\n', <time class=\"result-date\" datetime=\"2017-03-30 11:28\" title=\"Thu 30 Mar 11:28:04 AM\">Mar 30</time>, '\\n', <a class=\"result-title hdrlnk\" data-id=\"6066575750\" href=\"/mnh/roo/6066575750.html\">** Free laundry! - MOVE IN to an East Village, PreWar Apt, etc -- PICS</a>, '\\n', <span class=\"result-meta\">\n",
       " <span class=\"result-price\">$1850</span>\n",
       " <span class=\"housing\">\n",
       "                     950ft<sup>2</sup> -\n",
       "                 </span>\n",
       " <span class=\"result-hood\"> (East Village)</span>\n",
       " <span class=\"result-tags\">\n",
       "                     pic\n",
       "                     <span class=\"maptag\" data-pid=\"6066575750\">map</span>\n",
       " </span>\n",
       " <span class=\"banish icon icon-trash\" role=\"button\">\n",
       " <span class=\"screen-reader-text\">hide this posting</span>\n",
       " </span>\n",
       " <span aria-hidden=\"true\" class=\"unbanish icon icon-trash red\" role=\"button\"></span>\n",
       " <a class=\"restore-link\" href=\"#\">\n",
       " <span class=\"restore-narrow-text\">restore</span>\n",
       " <span class=\"restore-wide-text\">restore this posting</span>\n",
       " </a>\n",
       " </span>, '\\n']"
      ]
     },
     "execution_count": 17,
     "metadata": {},
     "output_type": "execute_result"
    }
   ],
   "source": [
    "list(cl_soup.find_all('p')[0].children)"
   ]
  },
  {
   "cell_type": "markdown",
   "metadata": {},
   "source": [
    "Look for tags based on their class. This is extremely useful for efficiently locating information."
   ]
  },
  {
   "cell_type": "code",
   "execution_count": 18,
   "metadata": {
    "collapsed": false
   },
   "outputs": [
    {
     "data": {
      "text/plain": [
       "'$1850'"
      ]
     },
     "execution_count": 18,
     "metadata": {},
     "output_type": "execute_result"
    }
   ],
   "source": [
    "cl_soup.find_all('span', class_='result-price')[0].get_text()"
   ]
  },
  {
   "cell_type": "code",
   "execution_count": 19,
   "metadata": {
    "collapsed": true
   },
   "outputs": [],
   "source": [
    "prices = cl_soup.find_all('span', class_='result-price')"
   ]
  },
  {
   "cell_type": "code",
   "execution_count": 20,
   "metadata": {
    "collapsed": false
   },
   "outputs": [],
   "source": [
    "price_data = [price.get_text() for price in prices]"
   ]
  },
  {
   "cell_type": "code",
   "execution_count": 21,
   "metadata": {
    "collapsed": false
   },
   "outputs": [
    {
     "data": {
      "text/plain": [
       "['$1850',\n",
       " '$1850',\n",
       " '$1325',\n",
       " '$1325',\n",
       " '$1800',\n",
       " '$1800',\n",
       " '$1300',\n",
       " '$1300',\n",
       " '$1400',\n",
       " '$1400']"
      ]
     },
     "execution_count": 21,
     "metadata": {},
     "output_type": "execute_result"
    }
   ],
   "source": [
    "price_data[:10]"
   ]
  },
  {
   "cell_type": "code",
   "execution_count": null,
   "metadata": {
    "collapsed": false
   },
   "outputs": [],
   "source": [
    "len(price_data)"
   ]
  },
  {
   "cell_type": "markdown",
   "metadata": {},
   "source": [
    "We are getting more cells than we want -- there were only 120 listings on the page. Check the ads with \"Inspect Element\"."
   ]
  },
  {
   "cell_type": "code",
   "execution_count": 22,
   "metadata": {
    "collapsed": false
   },
   "outputs": [
    {
     "data": {
      "text/plain": [
       "<li class=\"result-row\" data-pid=\"6066575750\">\n",
       "<a class=\"result-image gallery\" data-ids=\"1:00T0T_k7bL8hZs1j1,1:00V0V_lRDosVbZz3w,1:00D0D_8kYoiRCvuq3,1:00707_fRAnNuWmeWM,1:00404_7NNtKdWfl53,1:00505_bBVMGdcDUZc,1:00v0v_lY5TwZAj4BJ,1:00H0H_1ZVbrc0310S,1:00k0k_j8mBgJNsd3S,1:00M0M_kMzynyz8wT,1:00W0W_3v5iPE4lQ44,1:00a0a_8l5AknuqV2G,1:00p0p_2DfCOT9TAsF,1:00B0B_3RBDtCuLNGE,1:00L0L_4ZNpbrv19qn\" href=\"/mnh/roo/6066575750.html\">\n",
       "<span class=\"result-price\">$1850</span>\n",
       "</a>\n",
       "<p class=\"result-info\">\n",
       "<span class=\"icon icon-star\" role=\"button\">\n",
       "<span class=\"screen-reader-text\">favorite this post</span>\n",
       "</span>\n",
       "<time class=\"result-date\" datetime=\"2017-03-30 11:28\" title=\"Thu 30 Mar 11:28:04 AM\">Mar 30</time>\n",
       "<a class=\"result-title hdrlnk\" data-id=\"6066575750\" href=\"/mnh/roo/6066575750.html\">** Free laundry! - MOVE IN to an East Village, PreWar Apt, etc -- PICS</a>\n",
       "<span class=\"result-meta\">\n",
       "<span class=\"result-price\">$1850</span>\n",
       "<span class=\"housing\">\n",
       "                    950ft<sup>2</sup> -\n",
       "                </span>\n",
       "<span class=\"result-hood\"> (East Village)</span>\n",
       "<span class=\"result-tags\">\n",
       "                    pic\n",
       "                    <span class=\"maptag\" data-pid=\"6066575750\">map</span>\n",
       "</span>\n",
       "<span class=\"banish icon icon-trash\" role=\"button\">\n",
       "<span class=\"screen-reader-text\">hide this posting</span>\n",
       "</span>\n",
       "<span aria-hidden=\"true\" class=\"unbanish icon icon-trash red\" role=\"button\"></span>\n",
       "<a class=\"restore-link\" href=\"#\">\n",
       "<span class=\"restore-narrow-text\">restore</span>\n",
       "<span class=\"restore-wide-text\">restore this posting</span>\n",
       "</a>\n",
       "</span>\n",
       "</p>\n",
       "</li>"
      ]
     },
     "execution_count": 22,
     "metadata": {},
     "output_type": "execute_result"
    }
   ],
   "source": [
    "cl_soup.find_all('li', class_='result-row')[0]"
   ]
  },
  {
   "cell_type": "code",
   "execution_count": 23,
   "metadata": {
    "collapsed": false
   },
   "outputs": [],
   "source": [
    "ads = cl_soup.find_all('li', class_='result-row')"
   ]
  },
  {
   "cell_type": "code",
   "execution_count": 24,
   "metadata": {
    "collapsed": false,
    "scrolled": true
   },
   "outputs": [
    {
     "ename": "AttributeError",
     "evalue": "'NoneType' object has no attribute 'get_text'",
     "output_type": "error",
     "traceback": [
      "\u001b[0;31m---------------------------------------------------------------------------\u001b[0m",
      "\u001b[0;31mAttributeError\u001b[0m                            Traceback (most recent call last)",
      "\u001b[0;32m<ipython-input-24-5f66cb53d05d>\u001b[0m in \u001b[0;36m<module>\u001b[0;34m()\u001b[0m\n\u001b[1;32m      1\u001b[0m data = [[ad.find('a', class_='result-title hdrlnk').get_text(), \n\u001b[1;32m      2\u001b[0m          \u001b[0mad\u001b[0m\u001b[0;34m.\u001b[0m\u001b[0mfind\u001b[0m\u001b[0;34m(\u001b[0m\u001b[0;34m'a'\u001b[0m\u001b[0;34m,\u001b[0m \u001b[0mclass_\u001b[0m\u001b[0;34m=\u001b[0m\u001b[0;34m'result-title hdrlnk'\u001b[0m\u001b[0;34m)\u001b[0m\u001b[0;34m[\u001b[0m\u001b[0;34m'data-id'\u001b[0m\u001b[0;34m]\u001b[0m\u001b[0;34m,\u001b[0m\u001b[0;34m\u001b[0m\u001b[0m\n\u001b[0;32m----> 3\u001b[0;31m          ad.find('span', class_='result-price').get_text()] for ad in ads ]\n\u001b[0m",
      "\u001b[0;32m<ipython-input-24-5f66cb53d05d>\u001b[0m in \u001b[0;36m<listcomp>\u001b[0;34m(.0)\u001b[0m\n\u001b[1;32m      1\u001b[0m data = [[ad.find('a', class_='result-title hdrlnk').get_text(), \n\u001b[1;32m      2\u001b[0m          \u001b[0mad\u001b[0m\u001b[0;34m.\u001b[0m\u001b[0mfind\u001b[0m\u001b[0;34m(\u001b[0m\u001b[0;34m'a'\u001b[0m\u001b[0;34m,\u001b[0m \u001b[0mclass_\u001b[0m\u001b[0;34m=\u001b[0m\u001b[0;34m'result-title hdrlnk'\u001b[0m\u001b[0;34m)\u001b[0m\u001b[0;34m[\u001b[0m\u001b[0;34m'data-id'\u001b[0m\u001b[0;34m]\u001b[0m\u001b[0;34m,\u001b[0m\u001b[0;34m\u001b[0m\u001b[0m\n\u001b[0;32m----> 3\u001b[0;31m          ad.find('span', class_='result-price').get_text()] for ad in ads ]\n\u001b[0m",
      "\u001b[0;31mAttributeError\u001b[0m: 'NoneType' object has no attribute 'get_text'"
     ]
    }
   ],
   "source": [
    "data = [[ad.find('a', class_='result-title hdrlnk').get_text(), \n",
    "         ad.find('a', class_='result-title hdrlnk')['data-id'], \n",
    "         ad.find('span', class_='result-price').get_text()] for ad in ads ]"
   ]
  },
  {
   "cell_type": "markdown",
   "metadata": {},
   "source": [
    "What's going wrong? Some ads don't have a price listed, so we can't retrieve it."
   ]
  },
  {
   "cell_type": "code",
   "execution_count": 25,
   "metadata": {
    "collapsed": false
   },
   "outputs": [
    {
     "data": {
      "text/plain": [
       "bs4.element.Tag"
      ]
     },
     "execution_count": 25,
     "metadata": {},
     "output_type": "execute_result"
    }
   ],
   "source": [
    "# if it exists then the type is\n",
    "type(ads[0].find('span', class_='result-price'))"
   ]
  },
  {
   "cell_type": "code",
   "execution_count": 26,
   "metadata": {
    "collapsed": false
   },
   "outputs": [],
   "source": [
    "import bs4\n",
    "\n",
    "data = [[ad.find('a', class_='result-title hdrlnk').get_text(), \n",
    "         ad.find('a', class_='result-title hdrlnk')['data-id'], \n",
    "         ad.find('span', class_='result-price').get_text()] for ad in ads \n",
    "        if type(ad.find('span', class_='result-price'))==bs4.element.Tag]"
   ]
  },
  {
   "cell_type": "code",
   "execution_count": 27,
   "metadata": {
    "collapsed": true
   },
   "outputs": [],
   "source": [
    "df = pd.DataFrame(data)"
   ]
  },
  {
   "cell_type": "code",
   "execution_count": 28,
   "metadata": {
    "collapsed": false
   },
   "outputs": [
    {
     "data": {
      "text/html": [
       "<div>\n",
       "<table border=\"1\" class=\"dataframe\">\n",
       "  <thead>\n",
       "    <tr style=\"text-align: right;\">\n",
       "      <th></th>\n",
       "      <th>0</th>\n",
       "      <th>1</th>\n",
       "      <th>2</th>\n",
       "    </tr>\n",
       "  </thead>\n",
       "  <tbody>\n",
       "    <tr>\n",
       "      <th>0</th>\n",
       "      <td>** Free laundry! - MOVE IN to an East Village,...</td>\n",
       "      <td>6066575750</td>\n",
       "      <td>$1850</td>\n",
       "    </tr>\n",
       "    <tr>\n",
       "      <th>1</th>\n",
       "      <td>No Fee!Queen Sized Rm in East Village For $132...</td>\n",
       "      <td>6063126853</td>\n",
       "      <td>$1325</td>\n",
       "    </tr>\n",
       "    <tr>\n",
       "      <th>2</th>\n",
       "      <td>Furnished Room in East Village Doorman Building</td>\n",
       "      <td>6057888332</td>\n",
       "      <td>$1800</td>\n",
       "    </tr>\n",
       "    <tr>\n",
       "      <th>3</th>\n",
       "      <td>Beautiful sunny bedroom in great East Village/...</td>\n",
       "      <td>6066076874</td>\n",
       "      <td>$1300</td>\n",
       "    </tr>\n",
       "    <tr>\n",
       "      <th>4</th>\n",
       "      <td>Queen room in 2BR, large living room, LES / Ea...</td>\n",
       "      <td>6055449881</td>\n",
       "      <td>$1400</td>\n",
       "    </tr>\n",
       "    <tr>\n",
       "      <th>5</th>\n",
       "      <td>$1615 Bedroom available in East Village Bldg</td>\n",
       "      <td>6065914838</td>\n",
       "      <td>$1615</td>\n",
       "    </tr>\n",
       "    <tr>\n",
       "      <th>6</th>\n",
       "      <td>DOORMAN BLDG Sunny Bright Room in East Village...</td>\n",
       "      <td>6057762844</td>\n",
       "      <td>$1295</td>\n",
       "    </tr>\n",
       "    <tr>\n",
       "      <th>7</th>\n",
       "      <td>East Village Prime Location Downtown Living at...</td>\n",
       "      <td>6065616266</td>\n",
       "      <td>$1895</td>\n",
       "    </tr>\n",
       "    <tr>\n",
       "      <th>8</th>\n",
       "      <td>EAST VILLAGE- Bedroom in Amazing 3bdrm w priva...</td>\n",
       "      <td>6065488224</td>\n",
       "      <td>$1415</td>\n",
       "    </tr>\n",
       "    <tr>\n",
       "      <th>9</th>\n",
       "      <td>Great East Village Location, Facing Garden!</td>\n",
       "      <td>6050790054</td>\n",
       "      <td>$1100</td>\n",
       "    </tr>\n",
       "  </tbody>\n",
       "</table>\n",
       "</div>"
      ],
      "text/plain": [
       "                                                   0           1      2\n",
       "0  ** Free laundry! - MOVE IN to an East Village,...  6066575750  $1850\n",
       "1  No Fee!Queen Sized Rm in East Village For $132...  6063126853  $1325\n",
       "2    Furnished Room in East Village Doorman Building  6057888332  $1800\n",
       "3  Beautiful sunny bedroom in great East Village/...  6066076874  $1300\n",
       "4  Queen room in 2BR, large living room, LES / Ea...  6055449881  $1400\n",
       "5       $1615 Bedroom available in East Village Bldg  6065914838  $1615\n",
       "6  DOORMAN BLDG Sunny Bright Room in East Village...  6057762844  $1295\n",
       "7  East Village Prime Location Downtown Living at...  6065616266  $1895\n",
       "8  EAST VILLAGE- Bedroom in Amazing 3bdrm w priva...  6065488224  $1415\n",
       "9        Great East Village Location, Facing Garden!  6050790054  $1100"
      ]
     },
     "execution_count": 28,
     "metadata": {},
     "output_type": "execute_result"
    }
   ],
   "source": [
    "df.head(10)"
   ]
  },
  {
   "cell_type": "code",
   "execution_count": 29,
   "metadata": {
    "collapsed": false
   },
   "outputs": [
    {
     "data": {
      "text/plain": [
       "(118, 3)"
      ]
     },
     "execution_count": 29,
     "metadata": {},
     "output_type": "execute_result"
    }
   ],
   "source": [
    "df.shape"
   ]
  },
  {
   "cell_type": "markdown",
   "metadata": {},
   "source": [
    "We only have 118 listing because 2 listings did not have a price."
   ]
  },
  {
   "cell_type": "code",
   "execution_count": 30,
   "metadata": {
    "collapsed": false
   },
   "outputs": [],
   "source": [
    "df.columns = ['Title', 'ID', 'Price']"
   ]
  },
  {
   "cell_type": "code",
   "execution_count": 31,
   "metadata": {
    "collapsed": false
   },
   "outputs": [
    {
     "data": {
      "text/html": [
       "<div>\n",
       "<table border=\"1\" class=\"dataframe\">\n",
       "  <thead>\n",
       "    <tr style=\"text-align: right;\">\n",
       "      <th></th>\n",
       "      <th>Title</th>\n",
       "      <th>ID</th>\n",
       "      <th>Price</th>\n",
       "    </tr>\n",
       "  </thead>\n",
       "  <tbody>\n",
       "    <tr>\n",
       "      <th>0</th>\n",
       "      <td>** Free laundry! - MOVE IN to an East Village,...</td>\n",
       "      <td>6066575750</td>\n",
       "      <td>$1850</td>\n",
       "    </tr>\n",
       "    <tr>\n",
       "      <th>1</th>\n",
       "      <td>No Fee!Queen Sized Rm in East Village For $132...</td>\n",
       "      <td>6063126853</td>\n",
       "      <td>$1325</td>\n",
       "    </tr>\n",
       "    <tr>\n",
       "      <th>2</th>\n",
       "      <td>Furnished Room in East Village Doorman Building</td>\n",
       "      <td>6057888332</td>\n",
       "      <td>$1800</td>\n",
       "    </tr>\n",
       "    <tr>\n",
       "      <th>3</th>\n",
       "      <td>Beautiful sunny bedroom in great East Village/...</td>\n",
       "      <td>6066076874</td>\n",
       "      <td>$1300</td>\n",
       "    </tr>\n",
       "    <tr>\n",
       "      <th>4</th>\n",
       "      <td>Queen room in 2BR, large living room, LES / Ea...</td>\n",
       "      <td>6055449881</td>\n",
       "      <td>$1400</td>\n",
       "    </tr>\n",
       "  </tbody>\n",
       "</table>\n",
       "</div>"
      ],
      "text/plain": [
       "                                               Title          ID  Price\n",
       "0  ** Free laundry! - MOVE IN to an East Village,...  6066575750  $1850\n",
       "1  No Fee!Queen Sized Rm in East Village For $132...  6063126853  $1325\n",
       "2    Furnished Room in East Village Doorman Building  6057888332  $1800\n",
       "3  Beautiful sunny bedroom in great East Village/...  6066076874  $1300\n",
       "4  Queen room in 2BR, large living room, LES / Ea...  6055449881  $1400"
      ]
     },
     "execution_count": 31,
     "metadata": {},
     "output_type": "execute_result"
    }
   ],
   "source": [
    "df.head()"
   ]
  },
  {
   "cell_type": "markdown",
   "metadata": {},
   "source": [
    "We could do text anaylsis and see what words are common in ads which has a relatively higher price."
   ]
  },
  {
   "cell_type": "markdown",
   "metadata": {},
   "source": [
    "This approach is not really efficient because it only gets the first page of the search results. We see on the top of the CL page the total number of listings. In the `Inspection` mode we can pick an element from the page and check how it is defined in the `html` -- this is useful to get tags and classes efficiently.\n",
    "\n",
    "For example, the total number of ads is a `span` tag with a 'totalcount' `class`."
   ]
  },
  {
   "cell_type": "code",
   "execution_count": 32,
   "metadata": {
    "collapsed": false
   },
   "outputs": [
    {
     "data": {
      "text/plain": [
       "<span class=\"totalcount\">559</span>"
      ]
     },
     "execution_count": 32,
     "metadata": {},
     "output_type": "execute_result"
    }
   ],
   "source": [
    "cl_soup.find('span', class_='totalcount')"
   ]
  },
  {
   "cell_type": "markdown",
   "metadata": {},
   "source": [
    "We can see if we start clicking on the 2nd nd 3rd pages of the results that there is a structure in how they are defined\n",
    "\n",
    "First page:\n",
    "\n",
    "https://newyork.craigslist.org/search/roo?query=east+village&availabilityMode=0\n",
    "\n",
    "Second page:\n",
    "\n",
    "https://newyork.craigslist.org/search/roo?s=120&availabilityMode=0&query=east%20village\n",
    "\n",
    "Third page:\n",
    "\n",
    "https://newyork.craigslist.org/search/roo?s=240&availabilityMode=0&query=east%20village\n",
    "\n",
    "\n",
    "The number after `roo?s=` in the domain specifies where the listings are starting from (not inclusive). In fact, if we modify it ourselves we can fine-tune the page starting from the corresponding listing and then showing 120 listings. Try it!\n",
    "\n",
    "We can also define the first page by puttig`s=0&` after `roo?` like this:\n",
    "\n",
    "https://newyork.craigslist.org/search/roo?s=0&availabilityMode=0&query=east%20village\n"
   ]
  },
  {
   "cell_type": "code",
   "execution_count": 34,
   "metadata": {
    "collapsed": false
   },
   "outputs": [
    {
     "name": "stdout",
     "output_type": "stream",
     "text": [
      "559\n"
     ]
    }
   ],
   "source": [
    "# First we get the total number of listings in real time\n",
    "url = 'https://newyork.craigslist.org/search/roo?query=east+village&availabilityMode=0'\n",
    "cl = requests.get(url)\n",
    "cl_soup = BeautifulSoup(cl.content, 'html.parser')\n",
    "total_count = int(cl_soup.find('span', class_='totalcount').get_text())\n",
    "print(total_count)"
   ]
  },
  {
   "cell_type": "markdown",
   "metadata": {},
   "source": [
    "We have the total number of listings with the given search specification. Breaking down the steps:\n",
    "\n",
    "1) Specify the url of each page we want to scrape\n",
    "\n",
    "2) For each page scrape the data -- we will reuse the code what we already have for one page\n",
    "\n",
    "3) Save the data into one dataframe -- we can use the `append` method for DataFrames or the `extend` method for lists"
   ]
  },
  {
   "cell_type": "code",
   "execution_count": 35,
   "metadata": {
    "collapsed": false
   },
   "outputs": [
    {
     "name": "stdout",
     "output_type": "stream",
     "text": [
      "https://newyork.craigslist.org/search/roo?s=0&availabilityMode=0&query=east%20village\n",
      "https://newyork.craigslist.org/search/roo?s=120&availabilityMode=0&query=east%20village\n",
      "https://newyork.craigslist.org/search/roo?s=240&availabilityMode=0&query=east%20village\n",
      "https://newyork.craigslist.org/search/roo?s=360&availabilityMode=0&query=east%20village\n",
      "https://newyork.craigslist.org/search/roo?s=480&availabilityMode=0&query=east%20village\n"
     ]
    }
   ],
   "source": [
    "# 1) Specify the url\n",
    "for page in range(0, total_count, 120):\n",
    "    print('https://newyork.craigslist.org/search/roo?s={}&availabilityMode=0&query=east%20village'.format(page))\n"
   ]
  },
  {
   "cell_type": "code",
   "execution_count": 36,
   "metadata": {
    "collapsed": false
   },
   "outputs": [],
   "source": [
    "# Next we write a loop to scrape all pages\n",
    "\n",
    "df = pd.DataFrame({'Title' : [], 'ID' : [], 'Price' : []})\n",
    "for page in range(0, total_count, 120):\n",
    "    url = 'https://newyork.craigslist.org/search/roo?s={}&availabilityMode=0&query=east%20village'.format(page)\n",
    "    cl = requests.get(url)\n",
    "    cl_soup = BeautifulSoup(cl.content, 'html.parser')\n",
    "    ads = cl_soup.find_all('li', class_='result-row')\n",
    "    data = pd.DataFrame([[ad.find('a', class_='result-title hdrlnk').get_text(), \n",
    "         ad.find('a', class_='result-title hdrlnk')['data-id'], \n",
    "         ad.find('span', class_='result-price').get_text()] for ad in ads \n",
    "        if type(ad.find('span', class_='result-price'))==bs4.element.Tag], \n",
    "                       columns=['Title', 'ID', 'Price'])\n",
    "    df = df.append(data, ignore_index=True)"
   ]
  },
  {
   "cell_type": "code",
   "execution_count": 37,
   "metadata": {
    "collapsed": false
   },
   "outputs": [
    {
     "data": {
      "text/html": [
       "<div>\n",
       "<table border=\"1\" class=\"dataframe\">\n",
       "  <thead>\n",
       "    <tr style=\"text-align: right;\">\n",
       "      <th></th>\n",
       "      <th>ID</th>\n",
       "      <th>Price</th>\n",
       "      <th>Title</th>\n",
       "    </tr>\n",
       "  </thead>\n",
       "  <tbody>\n",
       "    <tr>\n",
       "      <th>0</th>\n",
       "      <td>6066575750</td>\n",
       "      <td>$1850</td>\n",
       "      <td>** Free laundry! - MOVE IN to an East Village,...</td>\n",
       "    </tr>\n",
       "    <tr>\n",
       "      <th>1</th>\n",
       "      <td>6063126853</td>\n",
       "      <td>$1325</td>\n",
       "      <td>No Fee!Queen Sized Rm in East Village For $132...</td>\n",
       "    </tr>\n",
       "    <tr>\n",
       "      <th>2</th>\n",
       "      <td>6057888332</td>\n",
       "      <td>$1800</td>\n",
       "      <td>Furnished Room in East Village Doorman Building</td>\n",
       "    </tr>\n",
       "    <tr>\n",
       "      <th>3</th>\n",
       "      <td>6066076874</td>\n",
       "      <td>$1300</td>\n",
       "      <td>Beautiful sunny bedroom in great East Village/...</td>\n",
       "    </tr>\n",
       "    <tr>\n",
       "      <th>4</th>\n",
       "      <td>6055449881</td>\n",
       "      <td>$1400</td>\n",
       "      <td>Queen room in 2BR, large living room, LES / Ea...</td>\n",
       "    </tr>\n",
       "  </tbody>\n",
       "</table>\n",
       "</div>"
      ],
      "text/plain": [
       "           ID  Price                                              Title\n",
       "0  6066575750  $1850  ** Free laundry! - MOVE IN to an East Village,...\n",
       "1  6063126853  $1325  No Fee!Queen Sized Rm in East Village For $132...\n",
       "2  6057888332  $1800    Furnished Room in East Village Doorman Building\n",
       "3  6066076874  $1300  Beautiful sunny bedroom in great East Village/...\n",
       "4  6055449881  $1400  Queen room in 2BR, large living room, LES / Ea..."
      ]
     },
     "execution_count": 37,
     "metadata": {},
     "output_type": "execute_result"
    }
   ],
   "source": [
    "df.head()"
   ]
  },
  {
   "cell_type": "code",
   "execution_count": 38,
   "metadata": {
    "collapsed": false
   },
   "outputs": [],
   "source": [
    "# Do the same using the `extend` method\n",
    "\n",
    "data = []\n",
    "for page in range(0, total_count, 120):\n",
    "    url = 'https://newyork.craigslist.org/search/roo?s={}&availabilityMode=0&query=east%20village'.format(page)\n",
    "    cl = requests.get(url)\n",
    "    cl_soup = BeautifulSoup(cl.content, 'html.parser')\n",
    "    ads = cl_soup.find_all('li', class_='result-row')\n",
    "    data_page = [[ad.find('a', class_='result-title hdrlnk').get_text(), \n",
    "         ad.find('a', class_='result-title hdrlnk')['data-id'], \n",
    "         ad.find('span', class_='result-price').get_text()] for ad in ads \n",
    "        if type(ad.find('span', class_='result-price'))==bs4.element.Tag]\n",
    "    data.extend(data_page)\n",
    "    \n",
    "df = pd.DataFrame(data, columns=['Title', 'ID', 'Price'])"
   ]
  },
  {
   "cell_type": "code",
   "execution_count": 39,
   "metadata": {
    "collapsed": false
   },
   "outputs": [
    {
     "data": {
      "text/html": [
       "<div>\n",
       "<table border=\"1\" class=\"dataframe\">\n",
       "  <thead>\n",
       "    <tr style=\"text-align: right;\">\n",
       "      <th></th>\n",
       "      <th>Title</th>\n",
       "      <th>ID</th>\n",
       "      <th>Price</th>\n",
       "    </tr>\n",
       "  </thead>\n",
       "  <tbody>\n",
       "    <tr>\n",
       "      <th>0</th>\n",
       "      <td>** Free laundry! - MOVE IN to an East Village,...</td>\n",
       "      <td>6066575750</td>\n",
       "      <td>$1850</td>\n",
       "    </tr>\n",
       "    <tr>\n",
       "      <th>1</th>\n",
       "      <td>No Fee!Queen Sized Rm in East Village For $132...</td>\n",
       "      <td>6063126853</td>\n",
       "      <td>$1325</td>\n",
       "    </tr>\n",
       "    <tr>\n",
       "      <th>2</th>\n",
       "      <td>Furnished Room in East Village Doorman Building</td>\n",
       "      <td>6057888332</td>\n",
       "      <td>$1800</td>\n",
       "    </tr>\n",
       "    <tr>\n",
       "      <th>3</th>\n",
       "      <td>Beautiful sunny bedroom in great East Village/...</td>\n",
       "      <td>6066076874</td>\n",
       "      <td>$1300</td>\n",
       "    </tr>\n",
       "    <tr>\n",
       "      <th>4</th>\n",
       "      <td>Queen room in 2BR, large living room, LES / Ea...</td>\n",
       "      <td>6055449881</td>\n",
       "      <td>$1400</td>\n",
       "    </tr>\n",
       "  </tbody>\n",
       "</table>\n",
       "</div>"
      ],
      "text/plain": [
       "                                               Title          ID  Price\n",
       "0  ** Free laundry! - MOVE IN to an East Village,...  6066575750  $1850\n",
       "1  No Fee!Queen Sized Rm in East Village For $132...  6063126853  $1325\n",
       "2    Furnished Room in East Village Doorman Building  6057888332  $1800\n",
       "3  Beautiful sunny bedroom in great East Village/...  6066076874  $1300\n",
       "4  Queen room in 2BR, large living room, LES / Ea...  6055449881  $1400"
      ]
     },
     "execution_count": 39,
     "metadata": {},
     "output_type": "execute_result"
    }
   ],
   "source": [
    "df.head()"
   ]
  },
  {
   "cell_type": "code",
   "execution_count": 40,
   "metadata": {
    "collapsed": false
   },
   "outputs": [
    {
     "data": {
      "text/plain": [
       "(540, 3)"
      ]
     },
     "execution_count": 40,
     "metadata": {},
     "output_type": "execute_result"
    }
   ],
   "source": [
    "df.shape"
   ]
  },
  {
   "cell_type": "code",
   "execution_count": 41,
   "metadata": {
    "collapsed": false
   },
   "outputs": [
    {
     "data": {
      "text/html": [
       "<div>\n",
       "<table border=\"1\" class=\"dataframe\">\n",
       "  <thead>\n",
       "    <tr style=\"text-align: right;\">\n",
       "      <th></th>\n",
       "      <th>Title</th>\n",
       "      <th>ID</th>\n",
       "      <th>Price</th>\n",
       "    </tr>\n",
       "  </thead>\n",
       "  <tbody>\n",
       "    <tr>\n",
       "      <th>535</th>\n",
       "      <td>Spacious NYC Apartments, Huge Rooms, Utilities...</td>\n",
       "      <td>6056402218</td>\n",
       "      <td>$1400</td>\n",
       "    </tr>\n",
       "    <tr>\n",
       "      <th>536</th>\n",
       "      <td>Open house 415.. Private room..... furnished a...</td>\n",
       "      <td>6050402498</td>\n",
       "      <td>$1199</td>\n",
       "    </tr>\n",
       "    <tr>\n",
       "      <th>537</th>\n",
       "      <td>2nd AVE GAY MALE LOFT FOR IMMEDIATELY</td>\n",
       "      <td>6013067229</td>\n",
       "      <td>$1599</td>\n",
       "    </tr>\n",
       "    <tr>\n",
       "      <th>538</th>\n",
       "      <td>Large room in spacious 2-bdr, great Location i...</td>\n",
       "      <td>6056318069</td>\n",
       "      <td>$2500</td>\n",
       "    </tr>\n",
       "    <tr>\n",
       "      <th>539</th>\n",
       "      <td>HUGE Bedrooms - Roommates needed for Immediate...</td>\n",
       "      <td>5977845665</td>\n",
       "      <td>$1400</td>\n",
       "    </tr>\n",
       "  </tbody>\n",
       "</table>\n",
       "</div>"
      ],
      "text/plain": [
       "                                                 Title          ID  Price\n",
       "535  Spacious NYC Apartments, Huge Rooms, Utilities...  6056402218  $1400\n",
       "536  Open house 415.. Private room..... furnished a...  6050402498  $1199\n",
       "537              2nd AVE GAY MALE LOFT FOR IMMEDIATELY  6013067229  $1599\n",
       "538  Large room in spacious 2-bdr, great Location i...  6056318069  $2500\n",
       "539  HUGE Bedrooms - Roommates needed for Immediate...  5977845665  $1400"
      ]
     },
     "execution_count": 41,
     "metadata": {},
     "output_type": "execute_result"
    }
   ],
   "source": [
    "df.tail()"
   ]
  },
  {
   "cell_type": "markdown",
   "metadata": {},
   "source": [
    "We have scraped all the listings from CL in section \"Rooms and Shares\" for the East Village."
   ]
  },
  {
   "cell_type": "markdown",
   "metadata": {
    "collapsed": true
   },
   "source": [
    "## Exercise\n",
    "\n",
    "Suppose you have a couple of destinations in mind and you want to check the weather for each of them for this Friday. You want to get it from the [National Weather Service](http://www.weather.gov/).\n",
    "\n",
    "These are the places I want to check (suppose there are many more and you want to automate it):\n",
    "\n",
    "```python\n",
    "locations = ['Roberta\\'s, Brooklyn', 'White Sands National Monument', 'Bronx Botanical Garden']\n",
    "```\n",
    "\n",
    "It seems that the NWS is using latitude and longitude coordinates in its search.\n",
    "\n",
    "i.e. for White Sands\n",
    "http://forecast.weather.gov/MapClick.php?lat=32.38092788700044&lon=-106.4794398029997\n",
    "\n",
    "Would be cool to pass these on as arguments.\n",
    "\n",
    "After some Google fu (i.e. \"latitude and longitude of location python\") find a post by [Chris Albon](https://chrisalbon.com/python/geocoding_and_reverse_geocoding.html) which describes exactly what we want.\n",
    "\n",
    "Install `pygeocoder` through `pip install pygeocoder` (from `conda` only the OSX version is available)."
   ]
  },
  {
   "cell_type": "code",
   "execution_count": 43,
   "metadata": {
    "collapsed": true
   },
   "outputs": [],
   "source": [
    "from pygeocoder import Geocoder"
   ]
  },
  {
   "cell_type": "code",
   "execution_count": 44,
   "metadata": {
    "collapsed": false
   },
   "outputs": [
    {
     "data": {
      "text/plain": [
       "(40.7050766, -73.9335923)"
      ]
     },
     "execution_count": 44,
     "metadata": {},
     "output_type": "execute_result"
    }
   ],
   "source": [
    "# check for one of the locations how it's working\n",
    "# some addresses might not be valid -- it goes through Google's API\n",
    "loc = Geocoder.geocode('Roberta\\'s, Brooklyn')\n",
    "loc.coordinates"
   ]
  },
  {
   "cell_type": "markdown",
   "metadata": {},
   "source": [
    "We can check whether it's working fine at http://www.latlong.net/"
   ]
  },
  {
   "cell_type": "code",
   "execution_count": 45,
   "metadata": {
    "collapsed": true
   },
   "outputs": [],
   "source": [
    "locations = ['Roberta\\'s, Brooklyn', 'White Sands National Park', 'Bronx Botanical Garden']\n",
    "\n",
    "coordinates = [Geocoder.geocode(location).coordinates for location in locations]"
   ]
  },
  {
   "cell_type": "code",
   "execution_count": 46,
   "metadata": {
    "collapsed": false
   },
   "outputs": [
    {
     "name": "stdout",
     "output_type": "stream",
     "text": [
      "The coordinates of Roberta's, Brooklyn are: (40.7050766, -73.9335923)\n",
      "The coordinates of White Sands National Park are: (32.7872403, -106.3256816)\n",
      "The coordinates of Bronx Botanical Garden are: (40.862452, -73.8802382)\n"
     ]
    }
   ],
   "source": [
    "for location, coordinate in zip(locations, coordinates):\n",
    "    print('The coordinates of {} are:'.format(location), coordinate)"
   ]
  },
  {
   "cell_type": "markdown",
   "metadata": {},
   "source": [
    "Define a dictionary for the parameters we want to pass to the GET request for NWS server."
   ]
  },
  {
   "cell_type": "code",
   "execution_count": 47,
   "metadata": {
    "collapsed": true
   },
   "outputs": [],
   "source": [
    "keys = {}\n",
    "for location, coordinate in zip(locations, coordinates):\n",
    "    keys[location] = {'lat' : coordinate[0], 'lon' : coordinate[1]}"
   ]
  },
  {
   "cell_type": "code",
   "execution_count": 48,
   "metadata": {
    "collapsed": false
   },
   "outputs": [
    {
     "data": {
      "text/plain": [
       "{'Bronx Botanical Garden': {'lat': 40.862452, 'lon': -73.8802382},\n",
       " \"Roberta's, Brooklyn\": {'lat': 40.7050766, 'lon': -73.9335923},\n",
       " 'White Sands National Park': {'lat': 32.7872403, 'lon': -106.3256816}}"
      ]
     },
     "execution_count": 48,
     "metadata": {},
     "output_type": "execute_result"
    }
   ],
   "source": [
    "keys"
   ]
  },
  {
   "cell_type": "code",
   "execution_count": 49,
   "metadata": {
    "collapsed": false
   },
   "outputs": [],
   "source": [
    "url = ' http://forecast.weather.gov/MapClick.php'    \n",
    "nws = requests.get(url, params=keys[locations[0]])"
   ]
  },
  {
   "cell_type": "code",
   "execution_count": 50,
   "metadata": {
    "collapsed": false
   },
   "outputs": [
    {
     "data": {
      "text/plain": [
       "'http://forecast.weather.gov/MapClick.php?lon=-73.9335923&lat=40.7050766'"
      ]
     },
     "execution_count": 50,
     "metadata": {},
     "output_type": "execute_result"
    }
   ],
   "source": [
    "nws.url"
   ]
  },
  {
   "cell_type": "code",
   "execution_count": null,
   "metadata": {
    "collapsed": false
   },
   "outputs": [],
   "source": [
    "nws.content[:100]"
   ]
  },
  {
   "cell_type": "code",
   "execution_count": 51,
   "metadata": {
    "collapsed": true
   },
   "outputs": [],
   "source": [
    "nws_soup = BeautifulSoup(nws.content, 'html.parser')"
   ]
  },
  {
   "cell_type": "code",
   "execution_count": 52,
   "metadata": {
    "collapsed": false
   },
   "outputs": [],
   "source": [
    "seven = nws_soup.find('div', id='seven-day-forecast-container')"
   ]
  },
  {
   "cell_type": "code",
   "execution_count": 53,
   "metadata": {
    "collapsed": false
   },
   "outputs": [
    {
     "data": {
      "text/plain": [
       "<p class=\"period-name\">Friday<br><br/></br></p>"
      ]
     },
     "execution_count": 53,
     "metadata": {},
     "output_type": "execute_result"
    }
   ],
   "source": [
    "seven.find(text='Friday').parent"
   ]
  },
  {
   "cell_type": "code",
   "execution_count": 54,
   "metadata": {
    "collapsed": false
   },
   "outputs": [
    {
     "data": {
      "text/plain": [
       "<div class=\"tombstone-container\">\n",
       "<p class=\"period-name\">Friday<br><br/></br></p>\n",
       "<p><img alt=\"Friday: Rain.  High near 43. Breezy, with an east wind 13 to 21 mph, with gusts as high as 31 mph.  Chance of precipitation is 100%. New precipitation amounts between a half and three quarters of an inch possible. \" class=\"forecast-icon\" src=\"newimages/medium/ra100.png\" title=\"Friday: Rain.  High near 43. Breezy, with an east wind 13 to 21 mph, with gusts as high as 31 mph.  Chance of precipitation is 100%. New precipitation amounts between a half and three quarters of an inch possible. \"/></p><p class=\"short-desc\">Rain and<br>Breezy</br></p><p class=\"temp temp-high\">High: 43 °F</p></div>"
      ]
     },
     "execution_count": 54,
     "metadata": {},
     "output_type": "execute_result"
    }
   ],
   "source": [
    "seven.find(text='Friday').parent.parent"
   ]
  },
  {
   "cell_type": "code",
   "execution_count": 55,
   "metadata": {
    "collapsed": false
   },
   "outputs": [
    {
     "data": {
      "text/plain": [
       "'High: 43 °F'"
      ]
     },
     "execution_count": 55,
     "metadata": {},
     "output_type": "execute_result"
    }
   ],
   "source": [
    "seven.find(text='Friday').parent.parent.find('p', class_='temp temp-high').get_text()"
   ]
  },
  {
   "cell_type": "code",
   "execution_count": 56,
   "metadata": {
    "collapsed": true
   },
   "outputs": [],
   "source": [
    "data = []\n",
    "for location in locations:\n",
    "    nws = requests.get(url, params=keys[location])\n",
    "    nws_soup = BeautifulSoup(nws.content, 'html.parser')\n",
    "    seven = nws_soup.find('div', id='seven-day-forecast-container')\n",
    "    temp = seven.find(text='Friday').parent.parent.find('p', class_='temp temp-high').get_text()\n",
    "    data.append([location, temp])"
   ]
  },
  {
   "cell_type": "code",
   "execution_count": 59,
   "metadata": {
    "collapsed": false
   },
   "outputs": [],
   "source": [
    "df_weather = pd.DataFrame(data, columns=['Location', 'Friday weather'])"
   ]
  },
  {
   "cell_type": "code",
   "execution_count": 60,
   "metadata": {
    "collapsed": false
   },
   "outputs": [
    {
     "data": {
      "text/html": [
       "<div>\n",
       "<table border=\"1\" class=\"dataframe\">\n",
       "  <thead>\n",
       "    <tr style=\"text-align: right;\">\n",
       "      <th></th>\n",
       "      <th>Location</th>\n",
       "      <th>Friday weather</th>\n",
       "    </tr>\n",
       "  </thead>\n",
       "  <tbody>\n",
       "    <tr>\n",
       "      <th>0</th>\n",
       "      <td>Roberta's, Brooklyn</td>\n",
       "      <td>High: 43 °F</td>\n",
       "    </tr>\n",
       "    <tr>\n",
       "      <th>1</th>\n",
       "      <td>White Sands National Park</td>\n",
       "      <td>High: 74 °F</td>\n",
       "    </tr>\n",
       "    <tr>\n",
       "      <th>2</th>\n",
       "      <td>Bronx Botanical Garden</td>\n",
       "      <td>High: 39 °F</td>\n",
       "    </tr>\n",
       "  </tbody>\n",
       "</table>\n",
       "</div>"
      ],
      "text/plain": [
       "                    Location Friday weather\n",
       "0        Roberta's, Brooklyn    High: 43 °F\n",
       "1  White Sands National Park    High: 74 °F\n",
       "2     Bronx Botanical Garden    High: 39 °F"
      ]
     },
     "execution_count": 60,
     "metadata": {},
     "output_type": "execute_result"
    }
   ],
   "source": [
    "df_weather"
   ]
  },
  {
   "cell_type": "code",
   "execution_count": null,
   "metadata": {
    "collapsed": true
   },
   "outputs": [],
   "source": []
  }
 ],
 "metadata": {
  "anaconda-cloud": {},
  "kernelspec": {
   "display_name": "Python [conda root]",
   "language": "python",
   "name": "conda-root-py"
  },
  "language_info": {
   "codemirror_mode": {
    "name": "ipython",
    "version": 3
   },
   "file_extension": ".py",
   "mimetype": "text/x-python",
   "name": "python",
   "nbconvert_exporter": "python",
   "pygments_lexer": "ipython3",
   "version": "3.5.2"
  }
 },
 "nbformat": 4,
 "nbformat_minor": 0
}
