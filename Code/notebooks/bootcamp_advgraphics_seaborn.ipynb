{
 "cells": [
  {
   "cell_type": "markdown",
   "metadata": {},
   "source": [
    "# Graphics using Seaborn\n",
    "\n",
    "We previously have covered how to do some basic graphics using `matplotlib`. In this notebook we introduce a package called `seaborn`. `seaborn` builds on top of `matplotlib` by doing 2 things:\n",
    "\n",
    "1. Gives us access to more types of plots (Note: Every plot created in `seaborn` could be made by `matplotlib`, but you shouldn't have to worry about doing this)\n",
    "2. Sets better defaults for how the plot looks right away\n",
    "\n",
    "Before we start, make sure that you have `seaborn` installed. If not, then you can install it by\n",
    "\n",
    "```\n",
    "conda install seaborn\n",
    "```\n",
    "\n",
    "_This notebook was created by Dave Backus, Chase Coleman, and Spencer Lyon for the NYU Stern course [Data Bootcamp](http://databootcamp.nyuecon.com/)._"
   ]
  },
  {
   "cell_type": "code",
   "execution_count": null,
   "metadata": {
    "collapsed": false
   },
   "outputs": [],
   "source": [
    "import matplotlib as mpl\n",
    "import matplotlib.pyplot as plt\n",
    "import pandas as pd\n",
    "import seaborn as sns\n",
    "import sys\n",
    "\n",
    "\n",
    "%matplotlib inline"
   ]
  },
  {
   "cell_type": "markdown",
   "metadata": {},
   "source": [
    "As per usual, we begin by listing the versions of each package that is used in this notebook."
   ]
  },
  {
   "cell_type": "code",
   "execution_count": null,
   "metadata": {
    "collapsed": false
   },
   "outputs": [],
   "source": [
    "# check versions (overkill, but why not?)\n",
    "print('Python version:', sys.version)\n",
    "print('Pandas version: ', pd.__version__)\n",
    "print('Matplotlib version: ', mpl.__version__)\n",
    "print('Seaborn version: ', sns.__version__)"
   ]
  },
  {
   "cell_type": "markdown",
   "metadata": {},
   "source": [
    "## Datasets\n",
    "\n",
    "There are some classical datasets that get used to demonstrate different types of plots. We will use several of them here.\n",
    "\n",
    "* tips : This dataset has informaiton on waiter tips. Includes information such as total amount of the bill, tip amount, sex of waiter, what day of the week, which meal, and party size.\n",
    "* anscombe: This dataset is a contrived example. It has 4 examples which differ drastically when you look at them, but they have the same correlation, regression coefficient, and $R^2$.\n",
    "* titanic : This dataset has information on each of the passengers who were on the titanic. Includes information such as: sex, age, ticket class, fare paid, whether they were alone, and more."
   ]
  },
  {
   "cell_type": "code",
   "execution_count": null,
   "metadata": {
    "collapsed": false
   },
   "outputs": [],
   "source": [
    "tips = sns.load_dataset(\"tips\")\n",
    "ansc = sns.load_dataset(\"anscombe\")\n",
    "tita = sns.load_dataset(\"titanic\")"
   ]
  },
  {
   "cell_type": "markdown",
   "metadata": {},
   "source": [
    "# Better Defaults\n",
    "\n",
    "Recall that in our [previous notebook](bootcamp_graphics.ipynb) that we used `plt.style.use` to set styles. We will begin by setting the style to `\"classic\"`; this sets all of our default settings back to `matplotlib`'s default values.\n",
    "\n",
    "Below we plot open and closing prices on the top axis and the implied returns on the bottom axis."
   ]
  },
  {
   "cell_type": "code",
   "execution_count": null,
   "metadata": {
    "collapsed": false
   },
   "outputs": [],
   "source": [
    "plt.style.use(\"classic\")\n",
    "\n",
    "fig, ax = plt.subplots(2)\n",
    "\n",
    "tips[tips[\"sex\"] == \"Male\"].plot(x=\"total_bill\", y=\"tip\", ax=ax[0], kind=\"scatter\",\n",
    "                                 color=\"blue\")\n",
    "tips[tips[\"sex\"] == \"Female\"].plot(x=\"total_bill\", y=\"tip\", ax=ax[1], kind=\"scatter\",\n",
    "                                   color=\"#F52887\")\n",
    "\n",
    "ax[0].set_xlim(0, 60)\n",
    "ax[1].set_xlim(0, 60)\n",
    "ax[0].set_ylim(0, 15)\n",
    "ax[1].set_ylim(0, 15)\n",
    "\n",
    "ax[0].set_title(\"Male Tips\")\n",
    "ax[1].set_title(\"Female Tips\")\n",
    "\n",
    "fig.tight_layout()\n",
    "# fig.savefig(\"/home/chase/Desktop/foo.png\")"
   ]
  },
  {
   "cell_type": "code",
   "execution_count": null,
   "metadata": {
    "collapsed": false
   },
   "outputs": [],
   "source": [
    "# sns.set() resets default seaborn settings\n",
    "sns.set()\n",
    "\n",
    "fig, ax = plt.subplots(2)\n",
    "\n",
    "tips[tips[\"sex\"] == \"Male\"].plot(x=\"total_bill\", y=\"tip\", ax=ax[0], kind=\"scatter\",\n",
    "                                 color=\"blue\")\n",
    "tips[tips[\"sex\"] == \"Female\"].plot(x=\"total_bill\", y=\"tip\", ax=ax[1], kind=\"scatter\",\n",
    "                                   color=\"#F52887\")\n",
    "\n",
    "ax[0].set_xlim(0, 60)\n",
    "ax[1].set_xlim(0, 60)\n",
    "ax[0].set_ylim(0, 15)\n",
    "ax[1].set_ylim(0, 15)\n",
    "\n",
    "ax[0].set_title(\"Male Tips\")\n",
    "ax[1].set_title(\"Female Tips\")\n",
    "\n",
    "fig.tight_layout()"
   ]
  },
  {
   "cell_type": "markdown",
   "metadata": {
    "collapsed": true
   },
   "source": [
    "What did you notice about the differences in the settings of the plot?\n",
    "\n",
    "Which do you like better? We like the second better.\n",
    "\n",
    "Investigate other styles and create the same plot as above using a style you like. You can choose from the list in the code below.\n",
    "\n",
    "If you have additional time, visit the [seaborn docs](http://stanford.edu/~mwaskom/software/seaborn/tutorial/aesthetics.html#temporarily-setting-figure-style) and try changing other default settings."
   ]
  },
  {
   "cell_type": "code",
   "execution_count": null,
   "metadata": {
    "collapsed": false
   },
   "outputs": [],
   "source": [
    "plt.style.available"
   ]
  },
  {
   "cell_type": "markdown",
   "metadata": {
    "collapsed": true
   },
   "source": [
    "We could do the same for a different style (like `ggplot`)"
   ]
  },
  {
   "cell_type": "code",
   "execution_count": null,
   "metadata": {
    "collapsed": false
   },
   "outputs": [],
   "source": [
    "plt.style.use(\"ggplot\")\n",
    "\n",
    "fig, ax = plt.subplots(2)\n",
    "\n",
    "tips[tips[\"sex\"] == \"Male\"].plot(x=\"total_bill\", y=\"tip\", ax=ax[0], kind=\"scatter\",\n",
    "                                 color=\"blue\")\n",
    "tips[tips[\"sex\"] == \"Female\"].plot(x=\"total_bill\", y=\"tip\", ax=ax[1], kind=\"scatter\",\n",
    "                                   color=\"#F52887\")\n",
    "\n",
    "ax[0].set_xlim(0, 60)\n",
    "ax[1].set_xlim(0, 60)\n",
    "ax[0].set_ylim(0, 15)\n",
    "ax[1].set_ylim(0, 15)\n",
    "\n",
    "ax[0].set_title(\"Male Tips\")\n",
    "ax[1].set_title(\"Female Tips\")\n",
    "\n",
    "fig.tight_layout()"
   ]
  },
  {
   "cell_type": "markdown",
   "metadata": {},
   "source": [
    "**Exercise**: Find a style you like and recreate the plot above using that style."
   ]
  },
  {
   "cell_type": "code",
   "execution_count": null,
   "metadata": {
    "collapsed": true
   },
   "outputs": [],
   "source": []
  },
  {
   "cell_type": "markdown",
   "metadata": {},
   "source": [
    "# The Juicy Stuff\n",
    "\n",
    "While having `seaborn` set sensible defaults is convenient, it isn't a particularly large innovation. We could choose sensible defaults and set them to be our default. The main benefit of `seaborn` is the types of graphs that it gives you access to -- All of which could be done in `matplotlib`, but, instead of 5 lines of code, it would require possibly hundreds of lines of code. Trust us... This is a good thing.\n",
    "\n",
    "We don't have time to cover everything that can be done in `seaborn`, but we suggest having a look at the [gallery](http://stanford.edu/~mwaskom/software/seaborn/examples/index.html) of examples.\n",
    "\n",
    "We will cover:\n",
    "\n",
    "* `kdeplot`\n",
    "* `jointplot`\n",
    "* `violinplot`\n",
    "* `pairplot`\n",
    "* ..."
   ]
  },
  {
   "cell_type": "code",
   "execution_count": null,
   "metadata": {
    "collapsed": true
   },
   "outputs": [],
   "source": [
    "# Move back to seaborn defaults\n",
    "sns.set()"
   ]
  },
  {
   "cell_type": "markdown",
   "metadata": {},
   "source": [
    "## kdeplot\n",
    "\n",
    "What does kde stand for?\n",
    "\n",
    "kde stands for \"kernel density estimation.\" This is (far far far) beyond the scope of this class, but the basic idea is that this is a smoothed histogram. When we are trying to get information about distributions it sometimes looks nicer than a histogram does."
   ]
  },
  {
   "cell_type": "code",
   "execution_count": null,
   "metadata": {
    "collapsed": false
   },
   "outputs": [],
   "source": [
    "fig, ax = plt.subplots()\n",
    "\n",
    "ax.hist(tips[\"tip\"], bins=25)\n",
    "\n",
    "ax.set_title(\"Histogram of tips\")\n",
    "plt.show()\n"
   ]
  },
  {
   "cell_type": "code",
   "execution_count": null,
   "metadata": {
    "collapsed": false
   },
   "outputs": [],
   "source": [
    "fig, ax = plt.subplots()\n",
    "\n",
    "sns.kdeplot(tips[\"tip\"], ax=ax)\n",
    "ax.hist(tips[\"tip\"], bins=25, alpha=0.25, normed=True, label=\"tip\")\n",
    "ax.legend()\n",
    "\n",
    "fig.suptitle(\"Kernel Density with Histogram\")\n",
    "\n",
    "plt.show()"
   ]
  },
  {
   "cell_type": "markdown",
   "metadata": {},
   "source": [
    "**Exercise**: Create your own kernel density plot using `sns.kdeplot` of `\"total_bill\"` from the `tips` dataframe"
   ]
  },
  {
   "cell_type": "code",
   "execution_count": null,
   "metadata": {
    "collapsed": true
   },
   "outputs": [],
   "source": []
  },
  {
   "cell_type": "markdown",
   "metadata": {},
   "source": [
    "## Jointplot\n",
    "\n",
    "We now show what `jointplot` does. It draws a scatter plot of two variables and puts their histogram just outside of the scatter plot. This tells you information about not only the joint distribution, but also the marginals."
   ]
  },
  {
   "cell_type": "code",
   "execution_count": null,
   "metadata": {
    "collapsed": false
   },
   "outputs": [],
   "source": [
    "sns.jointplot(x=\"total_bill\", y=\"tip\", data=tips)"
   ]
  },
  {
   "cell_type": "markdown",
   "metadata": {},
   "source": [
    "We can also plot everything as a kernel density estimate -- Notice the main plot is now a contour map."
   ]
  },
  {
   "cell_type": "code",
   "execution_count": null,
   "metadata": {
    "collapsed": false
   },
   "outputs": [],
   "source": [
    "sns.jointplot(x=\"total_bill\", y=\"tip\", data=tips, kind=\"kde\")"
   ]
  },
  {
   "cell_type": "markdown",
   "metadata": {},
   "source": [
    "**Exercise**: Create your own `jointplot`. Feel free to choose your own x and y data (if you can't decide then use `x=size` and `y=tip`). Interpret the output of the plot."
   ]
  },
  {
   "cell_type": "code",
   "execution_count": null,
   "metadata": {
    "collapsed": true
   },
   "outputs": [],
   "source": []
  },
  {
   "cell_type": "markdown",
   "metadata": {},
   "source": [
    "## violinplot\n",
    "\n",
    "Some of the story of this notebook is that distributions matter and how we can show them. Violin plots are similar to a sideways kernel density and it allows us to look at how distributions matter over some aspect of the data."
   ]
  },
  {
   "cell_type": "code",
   "execution_count": null,
   "metadata": {
    "collapsed": false
   },
   "outputs": [],
   "source": [
    "tita.head()"
   ]
  },
  {
   "cell_type": "code",
   "execution_count": null,
   "metadata": {
    "collapsed": false
   },
   "outputs": [],
   "source": [
    "tips.head()"
   ]
  },
  {
   "cell_type": "code",
   "execution_count": null,
   "metadata": {
    "collapsed": false
   },
   "outputs": [],
   "source": [
    "sns.violinplot(x=\"class\", y=\"age\", data=tita)"
   ]
  },
  {
   "cell_type": "markdown",
   "metadata": {},
   "source": [
    "**Exercise**: We might also want to look at the distribution of prices across ticket classes. Make a violin plot of the prices over the different ticket classes."
   ]
  },
  {
   "cell_type": "markdown",
   "metadata": {},
   "source": [
    "## Pairplot\n",
    "\n"
   ]
  },
  {
   "cell_type": "markdown",
   "metadata": {},
   "source": [
    "Pair plots show us two things. They show us the histograms of the variables along the diagonal and then the scatter plot of each pair of variables on the off diagonal pictures.\n",
    "\n",
    "Why might this be useful? It allows us to look get an idea of the correlations across each pair of variables and gives us an idea of their relationships across the variables."
   ]
  },
  {
   "cell_type": "code",
   "execution_count": null,
   "metadata": {
    "collapsed": false
   },
   "outputs": [],
   "source": [
    "sns.pairplot(tips[[\"tip\", \"total_bill\", \"size\"]], size=3.5)"
   ]
  },
  {
   "cell_type": "markdown",
   "metadata": {},
   "source": [
    "Below is the same plot, but slightly different. What is different?"
   ]
  },
  {
   "cell_type": "code",
   "execution_count": null,
   "metadata": {
    "collapsed": false
   },
   "outputs": [],
   "source": [
    "sns.pairplot(tips[[\"tip\", \"total_bill\", \"size\"]], size=3.5, diag_kind=\"kde\")"
   ]
  },
  {
   "cell_type": "markdown",
   "metadata": {},
   "source": [
    "What's different about this plot?\n",
    "\n",
    "Different colors for each company."
   ]
  },
  {
   "cell_type": "code",
   "execution_count": null,
   "metadata": {
    "collapsed": false
   },
   "outputs": [],
   "source": [
    "tips.head()"
   ]
  },
  {
   "cell_type": "code",
   "execution_count": null,
   "metadata": {
    "collapsed": false
   },
   "outputs": [],
   "source": [
    "sns.pairplot(tips[[\"tip\", \"total_bill\", \"size\", \"time\"]], size=3.5, diag_kind=\"kde\",\n",
    "             hue=\"time\")"
   ]
  },
  {
   "cell_type": "markdown",
   "metadata": {},
   "source": [
    "## swarmplot\n",
    "\n",
    "Sometimes we simply have too much data. One approach to visualizing all the data is to adjust features like the point size or transparency. \n",
    "\n",
    "An alternative is to use a swarm plot. This is best understood by example, so let's dive in!"
   ]
  },
  {
   "cell_type": "code",
   "execution_count": null,
   "metadata": {
    "collapsed": false
   },
   "outputs": [],
   "source": [
    "fig, ax = plt.subplots()\n",
    "sns.swarmplot(data=tips, x=\"day\", y=\"total_bill\")"
   ]
  },
  {
   "cell_type": "markdown",
   "metadata": {},
   "source": [
    "## lmplot\n",
    "\n",
    "We often want to think about running regressions of variables. A statistician named Francis Anscombe came up with four datasets that:\n",
    "\n",
    "* Same mean for $x$ and $y$\n",
    "* Same variance for $x$ and $y$\n",
    "* Same correlation between $x$ and $y$\n",
    "* Same regression coefficient of $x$ on $y$\n",
    "\n",
    "Below we show the scatter plot of the datasets to give you an idea of how different they are."
   ]
  },
  {
   "cell_type": "code",
   "execution_count": null,
   "metadata": {
    "collapsed": false
   },
   "outputs": [],
   "source": [
    "fig, ax = plt.subplots(2, 2, figsize=(10, 9))\n",
    "\n",
    "ansc[ansc[\"dataset\"] == \"I\"].plot.scatter(x=\"x\", y=\"y\", ax=ax[0, 0])\n",
    "ansc[ansc[\"dataset\"] == \"II\"].plot.scatter(x=\"x\", y=\"y\", ax=ax[0, 1])\n",
    "ansc[ansc[\"dataset\"] == \"III\"].plot.scatter(x=\"x\", y=\"y\", ax=ax[1, 0])\n",
    "ansc[ansc[\"dataset\"] == \"IV\"].plot.scatter(x=\"x\", y=\"y\", ax=ax[1, 1])\n",
    "\n",
    "ax[0, 0].set_title(\"Dataset I\")\n",
    "ax[0, 1].set_title(\"Dataset II\")\n",
    "ax[1, 0].set_title(\"Dataset III\")\n",
    "ax[1, 1].set_title(\"Dataset IV\")\n",
    "\n",
    "fig.suptitle(\"Anscombe's Quartet\")"
   ]
  },
  {
   "cell_type": "markdown",
   "metadata": {},
   "source": [
    "`lmplot` plots the data with the regression coefficient through it."
   ]
  },
  {
   "cell_type": "code",
   "execution_count": null,
   "metadata": {
    "collapsed": false
   },
   "outputs": [],
   "source": [
    "sns.lmplot(x=\"x\", y=\"y\", data=ansc, col=\"dataset\", hue=\"dataset\",\n",
    "           col_wrap=2, ci=None)"
   ]
  },
  {
   "cell_type": "markdown",
   "metadata": {},
   "source": [
    "## regplot"
   ]
  },
  {
   "cell_type": "markdown",
   "metadata": {},
   "source": [
    "`regplot` also shows the regression line through data points"
   ]
  },
  {
   "cell_type": "code",
   "execution_count": null,
   "metadata": {
    "collapsed": false
   },
   "outputs": [],
   "source": [
    "sns.regplot(x=\"x\", y=\"y\", data=ansc[ansc[\"dataset\"] == \"I\"])"
   ]
  },
  {
   "cell_type": "code",
   "execution_count": null,
   "metadata": {
    "collapsed": true
   },
   "outputs": [],
   "source": []
  }
 ],
 "metadata": {
  "kernelspec": {
   "display_name": "Python [default]",
   "language": "python",
   "name": "python3"
  },
  "language_info": {
   "codemirror_mode": {
    "name": "ipython",
    "version": 3
   },
   "file_extension": ".py",
   "mimetype": "text/x-python",
   "name": "python",
   "nbconvert_exporter": "python",
   "pygments_lexer": "ipython3",
   "version": "3.5.2"
  }
 },
 "nbformat": 4,
 "nbformat_minor": 0
}
