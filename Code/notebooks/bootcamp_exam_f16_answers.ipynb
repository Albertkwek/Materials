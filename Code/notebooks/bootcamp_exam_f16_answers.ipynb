{
 "nbformat_minor": 1, 
 "nbformat": 4, 
 "cells": [
  {
   "source": [
    "# Data Bootcamp \"Learning Experience\"   \n", 
    "\n", 
    "NYU Stern School of Business | November 2016\n", 
    "\n", 
    "Please answer the questions below in this IPython notebook.  Add cells as needed.  When you're done, **save it** and **email** to nyu.databootcamp@gmail.com.  Use the **subject line**:  \"bootcamp exam\" plus \"UG\" or \"MBA\", as appropriate.  Make sure you have the correct email address.  And the correct file.  **Doing this correctly is worth 10 points.**  \n", 
    "\nThis Jupyter notebook was created by Chase Coleman and Spencer Lyon for the NYU Stern course [Data Bootcamp](http://databootcamp.nyuecon.com/).  "
   ], 
   "cell_type": "markdown", 
   "outputExpanded": false, 
   "outputs": [], 
   "metadata": {}
  }, 
  {
   "source": [
    "## Import packages   \n", 
    "\nRun this code.  Really.  "
   ], 
   "cell_type": "markdown", 
   "outputExpanded": false, 
   "outputs": [], 
   "metadata": {}
  }, 
  {
   "cell_type": "code", 
   "execution_count": null, 
   "outputs": [], 
   "outputExpanded": false, 
   "source": [
    "# import packages \n", 
    "import pandas as pd                   # data management\n", 
    "import matplotlib.pyplot as plt       # graphics \n", 
    "import datetime as dt                 # check today's date \n", 
    "import sys                            # check Python version \n", 
    "\n", 
    "# IPython command, puts plots in notebook \n", 
    "%matplotlib inline\n", 
    "\n", 
    "print('Today is', dt.date.today())\n", 
    "print('Python version:\\n', sys.version, sep='') "
   ], 
   "metadata": {
    "collapsed": false
   }
  }, 
  {
   "source": [
    "## Question 0\n", 
    "\n", 
    "<!-- This question is so we can grade the exams, but also tests basic skills in working with notebooks -->\n", 
    "\n", 
    "* Change the file name by adding `_YourLastName` to it in the textbox at the top.  \n", 
    "* Add a markdown cell directly *below* this one that includes your name in bold, your student number, and your email address.  \n", 
    "\n(10 points)"
   ], 
   "cell_type": "markdown", 
   "outputExpanded": false, 
   "outputs": [], 
   "metadata": {}
  }, 
  {
   "source": [
    "**My Name**\n", 
    "\n", 
    "Student number: N1234567\n", 
    "\nemail address: me@domain.com"
   ], 
   "cell_type": "markdown", 
   "outputs": [], 
   "metadata": {}
  }, 
  {
   "source": [
    "## Question 1\n", 
    "\n", 
    "<!-- This question is about tooling basics and markdown formatting -->\n", 
    "\n", 
    "For each of the parts below, please create a new markdown cell that contains your answer. Each markdown cell should have a heading that looks like  `### Part X` , where `X` is the part label (a, b, c, or d).\n", 
    "\n", 
    "(a) What type of document is this exam written in?\n", 
    "\n", 
    "(b) If you have questions about how to do something in Python, what resources do you have to find an answer? Please give at least 3 and put them in a bullet point list.\n", 
    "\n", 
    "(c) Where can you find the course website and book? Give your answer by creating two links with the text `website` and `book` so that when the links are clicked the browswer goes to the proper website.\n", 
    "\n", 
    "(d) (challenging) What syntax do you use to create spyder code cells in a python file? Make your answer appear like python code. (Hint 1: the answer should contain ` ```python `, a blank line, your code, and ` ``` `) (Hint 2: if Hint 1 wasn't clear, look at the text in question 4 part b)\n", 
    "\n(20 points)"
   ], 
   "cell_type": "markdown", 
   "outputExpanded": false, 
   "outputs": [], 
   "metadata": {}
  }, 
  {
   "source": [
    "### Part a\n", 
    "\nJupyter notebook"
   ], 
   "cell_type": "markdown", 
   "outputExpanded": false, 
   "outputs": [], 
   "metadata": {}
  }, 
  {
   "source": [
    "### Part b\n", 
    "\n", 
    "- Google\n", 
    "- Ask a friend\n", 
    "- Ask the teacher\n", 
    "- Book\n", 
    "- tab completion\n", 
    "- `func_name?`\n", 
    "- Homeworks\n", 
    "- Notebooks for lectures\n", 
    "- mailing list"
   ], 
   "cell_type": "markdown", 
   "outputExpanded": false, 
   "outputs": [], 
   "metadata": {}
  }, 
  {
   "source": [
    "### Part c\n", 
    "\n", 
    "The course website is [here](http://databootcamp.nyuecon.com)\n", 
    "\nThe book is [here](https://www.gitbook.com/book/nyudatabootcamp/data-bootcamp/details)"
   ], 
   "cell_type": "markdown", 
   "outputExpanded": false, 
   "outputs": [], 
   "metadata": {}
  }, 
  {
   "source": [
    "### Part d\n", 
    "\n", 
    "```python\n", 
    "\n", 
    "#%% -- start of a code cell\n", 
    "\n```"
   ], 
   "cell_type": "markdown", 
   "outputExpanded": false, 
   "outputs": [], 
   "metadata": {}
  }, 
  {
   "source": [
    "## Question 2\n", 
    "\n", 
    "<!-- This question should be about string methods -->\n", 
    "\n", 
    "Consider the following string\n", 
    "\n", 
    "```python\n", 
    "my_string = \"Thi* i* a *tring\"\n", 
    "```\n", 
    "\n", 
    "Using string methods, do the following and print the results:\n", 
    "\n", 
    "**Warning**: Do not save the results back into `my_string` -- You should be using the original `my_string = \"Thi* i* a *tring*` for each of the following parts. Recall that string methods are \"making copies\" so it won't modify the original string unless you assign it back to `my_string`\n", 
    "\n", 
    "(a) Make all letters in `my_string` uppercase.\n", 
    "\n", 
    "(b) Remove all spaces from `my_string`.\n", 
    "\n", 
    "(c) Replace each of the `*`s with an `s` in `my_string`.\n", 
    "\n", 
    "(d) What does `my_string.split()` look like? What do you think happened and what type is this?\n", 
    "\n(20 points)"
   ], 
   "cell_type": "markdown", 
   "outputExpanded": false, 
   "outputs": [], 
   "metadata": {}
  }, 
  {
   "cell_type": "code", 
   "execution_count": null, 
   "outputs": [], 
   "outputExpanded": false, 
   "source": [
    "my_string = \"Thi* i* a *tring\""
   ], 
   "metadata": {
    "collapsed": true
   }
  }, 
  {
   "cell_type": "code", 
   "execution_count": null, 
   "outputs": [], 
   "outputExpanded": false, 
   "source": [
    "# part a\n", 
    "print(my_string.upper())\n", 
    "\n", 
    "# part b\n", 
    "print(my_string.replace(\" \", \"\"))\n", 
    "\n", 
    "# part c\n", 
    "print(my_string.replace(\"*\", \"s\"))\n", 
    "\n", 
    "# part d. `split()` will split the string at every\n", 
    "# \"whitespace\" (space, tab, new line) and return the\n", 
    "# parts in a list\n", 
    "print(my_string.split())"
   ], 
   "metadata": {
    "collapsed": false
   }
  }, 
  {
   "source": [
    "## Question 3\n", 
    "\n", 
    "<!-- This question tests idea of loops + list comprehensions -->\n", 
    "\n", 
    "(a) What is the type of `range(5)`? What is the type of `list(range(5))`?\n", 
    "\n", 
    "(b) Write a loop that sums all of the numbers from 0 to (not including) 100. Print the final sum.\n", 
    "\n", 
    "(c) Starting with the list `nums = [0, 1, 2, 3, 4, 5]` create a new list that has the numbers `[0, 10, 20, 30, 40, 50]` using a loop or list comprehension.\n", 
    "\n(15 points)"
   ], 
   "cell_type": "markdown", 
   "outputExpanded": false, 
   "outputs": [], 
   "metadata": {
    "collapsed": true
   }
  }, 
  {
   "cell_type": "code", 
   "execution_count": null, 
   "outputs": [], 
   "outputExpanded": false, 
   "source": [
    "type(range(5))"
   ], 
   "metadata": {
    "collapsed": false
   }
  }, 
  {
   "cell_type": "code", 
   "execution_count": null, 
   "outputs": [], 
   "outputExpanded": false, 
   "source": [
    "type(list(range(5)))"
   ], 
   "metadata": {
    "collapsed": false
   }
  }, 
  {
   "cell_type": "code", 
   "execution_count": null, 
   "outputs": [], 
   "outputExpanded": false, 
   "source": [
    "total = 0\n", 
    "for i in range(100):\n", 
    "    total = total + i\n", 
    "\nprint(total)"
   ], 
   "metadata": {
    "collapsed": false
   }
  }, 
  {
   "cell_type": "code", 
   "execution_count": null, 
   "outputs": [], 
   "outputExpanded": false, 
   "source": [
    "nums = [0, 1, 2, 3, 4, 5]\n", 
    "[i*10 for i in nums]"
   ], 
   "metadata": {
    "collapsed": false
   }
  }, 
  {
   "source": [
    "## Question 4\n", 
    "\n", 
    "<!-- This question is about defining functions, conditionals, and types --> \n", 
    "\n", 
    "(a) `def`ine your own function named `mymessage` that does the following:\n", 
    "\n", 
    "- Takes one argument named `x`\n", 
    "- If `x` is a string, list, or tuple; print the length of x and x\n", 
    "- For all other cases, print a message showing the type of `x` and `x`\n", 
    "\n", 
    "Hint: You will need to understand what the word `or` does. Think about what the following code is doing:\n", 
    "\n", 
    "```python\n", 
    "print(True or False)\n", 
    "print(True or True)\n", 
    "print(False or False or False)\n", 
    "print(False or False or True)\n", 
    "```\n", 
    "\n(10 points)"
   ], 
   "cell_type": "markdown", 
   "outputExpanded": false, 
   "outputs": [], 
   "metadata": {}
  }, 
  {
   "execution_count": null, 
   "cell_type": "code", 
   "source": [
    "def mymessage(x):\n", 
    "    if type(x) == list or type(x) == tuple or type(x) == str:\n", 
    "        print(\"The length of x is\", len(x), \"and x is\", x)\n", 
    "    else:\n", 
    "        print(\"The type of x is\", type(x), \"and x is\" , x)"
   ], 
   "outputs": [], 
   "metadata": {
    "collapsed": false
   }
  }, 
  {
   "source": [
    "(b) In the code block below you will find expressions that define variables `b1`, `b2`, `b3`, `b4`, and `b5`. \n", 
    "\n", 
    "```python\n", 
    "b1 = 2*3\n", 
    "b2 = 2.0*3\n", 
    "b3 = 'Dave Backus'\n", 
    "b4 = ['This', \"is\", 'not', \"a\", 'string']\n", 
    "b5 = (b4[0], b4[2], b4[4])\n", 
    "```\n", 
    "\n", 
    "For each of these cases apply your your function and verify that the output follows the instructions given in part (a).\n", 
    "\n(10 points)"
   ], 
   "cell_type": "markdown", 
   "outputExpanded": false, 
   "outputs": [], 
   "metadata": {}
  }, 
  {
   "cell_type": "code", 
   "execution_count": null, 
   "outputs": [], 
   "outputExpanded": false, 
   "source": [
    "b1 = 2*3\n", 
    "b2 = 2.0*3\n", 
    "b3 = 'Dave Backus'\n", 
    "b4 = ['This', \"is\", 'not', \"a\", 'string']\n", 
    "b5 = (b4[0], b4[2], b4[4])"
   ], 
   "metadata": {
    "collapsed": true
   }
  }, 
  {
   "cell_type": "code", 
   "execution_count": null, 
   "outputs": [], 
   "outputExpanded": false, 
   "source": [
    "mymessage(b1)"
   ], 
   "metadata": {
    "collapsed": false
   }
  }, 
  {
   "cell_type": "code", 
   "execution_count": null, 
   "outputs": [], 
   "outputExpanded": false, 
   "source": [
    "mymessage(b2)"
   ], 
   "metadata": {
    "collapsed": false
   }
  }, 
  {
   "cell_type": "code", 
   "execution_count": null, 
   "outputs": [], 
   "outputExpanded": false, 
   "source": [
    "mymessage(b3)"
   ], 
   "metadata": {
    "collapsed": false
   }
  }, 
  {
   "cell_type": "code", 
   "execution_count": null, 
   "outputs": [], 
   "outputExpanded": false, 
   "source": [
    "mymessage(b4)"
   ], 
   "metadata": {
    "collapsed": false
   }
  }, 
  {
   "cell_type": "code", 
   "execution_count": null, 
   "outputs": [], 
   "outputExpanded": false, 
   "source": [
    "mymessage(b5)"
   ], 
   "metadata": {
    "collapsed": false
   }
  }, 
  {
   "source": [
    "## Question 5\n", 
    "\n", 
    "<!-- This question is about defining multiple argument functions, defining functions that return something, debugging -->\n", 
    "\n", 
    "(a) `def`ine another function named `foo` that does the following:\n", 
    "\n", 
    "- Takes two arguments `x` and `n`\n", 
    "- Returns the first `n` elements of `x`\n", 
    "\n(10 points)"
   ], 
   "cell_type": "markdown", 
   "outputExpanded": false, 
   "outputs": [], 
   "metadata": {}
  }, 
  {
   "cell_type": "code", 
   "execution_count": null, 
   "outputs": [], 
   "outputExpanded": false, 
   "source": [
    "def foo(x, n):\n", 
    "    return x[:n]"
   ], 
   "metadata": {
    "collapsed": true
   }
  }, 
  {
   "source": [
    "(b) Apply this function to the variables `b1`-`b5` above (where `x` is `b1`, then `x` is `b2`, ..., then `x` is `b5`) and `n` is always 2. If Python raises an error, please do your best to explain what the error means\n", 
    "\n(10 points)"
   ], 
   "cell_type": "markdown", 
   "outputExpanded": false, 
   "outputs": [], 
   "metadata": {}
  }, 
  {
   "cell_type": "code", 
   "execution_count": null, 
   "outputs": [], 
   "outputExpanded": false, 
   "source": [
    "# The error here is because you can't \"index into\" an integer\n", 
    "\nfoo(b1, 2)"
   ], 
   "metadata": {
    "collapsed": false
   }
  }, 
  {
   "cell_type": "code", 
   "execution_count": null, 
   "outputs": [], 
   "outputExpanded": false, 
   "source": [
    "# The error here is because you can't \"index into\" a float\n", 
    "foo(b2, 2)"
   ], 
   "metadata": {
    "collapsed": false
   }
  }, 
  {
   "cell_type": "code", 
   "execution_count": null, 
   "outputs": [], 
   "outputExpanded": false, 
   "source": [
    "foo(b3, 2)"
   ], 
   "metadata": {
    "collapsed": false
   }
  }, 
  {
   "cell_type": "code", 
   "execution_count": null, 
   "outputs": [], 
   "outputExpanded": false, 
   "source": [
    "foo(b4, 2)"
   ], 
   "metadata": {
    "collapsed": false
   }
  }, 
  {
   "cell_type": "code", 
   "execution_count": null, 
   "outputs": [], 
   "outputExpanded": false, 
   "source": [
    "foo(b5, 2)"
   ], 
   "metadata": {
    "collapsed": false
   }
  }, 
  {
   "source": [
    "(c) (Challenging) In words, explain what happens when you call `foo(b3, -2)`\n", 
    "\n(5 points)"
   ], 
   "cell_type": "markdown", 
   "outputExpanded": false, 
   "outputs": [], 
   "metadata": {}
  }, 
  {
   "execution_count": null, 
   "cell_type": "code", 
   "source": [
    "foo(b3, -2)"
   ], 
   "outputs": [], 
   "metadata": {
    "collapsed": false
   }
  }, 
  {
   "source": [
    "### Part c\n", 
    "\nCalling `foo(b3, -2)` is like writing `\"Dave Backus\"[:-2]`. The `:-2` instructs Python to start at the beginning of the string and go all the way up to the second to last character of the string, resulting in `\"Dave Back\"`"
   ], 
   "cell_type": "markdown", 
   "outputExpanded": false, 
   "outputs": [], 
   "metadata": {}
  }, 
  {
   "source": [
    "## Question 6\n", 
    "\n", 
    "<!-- This question covers DataFrame basics -->\n", 
    "\n", 
    "Consider the python code below\n", 
    "\n", 
    "```python\n", 
    "poke_dict = {\n", 
    " 'Name': {1: 'Bulbasaur',\n", 
    "          2: 'Ivysaur',\n", 
    "          3: 'Venusaur',\n", 
    "          4: 'Charmander',\n", 
    "          5: 'Charmeleon',\n", 
    "          6: 'Charizard',\n", 
    "          7: 'Squirtle',\n", 
    "          8: 'Wartortle',\n", 
    "          9: 'Blastoise'},\n", 
    " 'Attack': {1: 49, 2: 62, 3: 82, 4: 52, 5: 64, 6: 84, 7: 48, 8: 63, 9: 83},\n", 
    " 'Defense': {1: 49, 2: 63, 3: 83, 4: 43, 5: 58, 6: 78, 7: 65, 8: 80, 9: 100},\n", 
    " 'HP': {1: 45, 2: 60, 3: 80, 4: 39, 5: 58, 6: 78, 7: 44, 8: 59, 9: 79},\n", 
    " 'Sp. Atk': {1: 65, 2: 80, 3: 100, 4: 60, 5: 80, 6: 109, 7: 50, 8: 65, 9: 85},\n", 
    " 'Sp. Def': {1: 65, 2: 80, 3: 100, 4: 50, 5: 65, 6: 85, 7: 64, 8: 80, 9: 105},\n", 
    " 'Speed': {1: 45, 2: 60, 3: 80, 4: 65, 5: 80, 6: 100, 7: 43, 8: 58, 9: 78}\n", 
    "}\n", 
    "```\n", 
    "\n", 
    "Please answer the questions below, giving each part its own code cell:\n", 
    "\n", 
    "(a) Copy and paste the definition of `poke_dict` above into a code cell below and run it. What is the `type` of `poke_dict`?\n", 
    "\n", 
    "(b) Run the code `pokemon = pd.DataFrame(poke_dict)`. What type of object is `pokemon`?\n", 
    "\n", 
    "(c) How many rows and columns does `pokemon` have?\n", 
    "\n", 
    "(d) What are the column names in `pokemon`?\n", 
    "\n", 
    "(3) What are the dtypes for the columns? For each different dtype in `pokemon`, please describe what that dtype means (Hint: There are two dtypes)\n", 
    "\n", 
    "(f) Describe the results of the following code `squirt = pokemon.tail(3)`. What type of object is `squirt`? How does `squirt` relate to `pokemon`?\n", 
    "\n(30 points)"
   ], 
   "cell_type": "markdown", 
   "outputExpanded": false, 
   "outputs": [], 
   "metadata": {}
  }, 
  {
   "cell_type": "code", 
   "execution_count": null, 
   "outputs": [], 
   "outputExpanded": false, 
   "source": [
    "# part a\n", 
    "poke_dict = {\n", 
    " 'Name': {1: 'Bulbasaur',\n", 
    "          2: 'Ivysaur',\n", 
    "          3: 'Venusaur',\n", 
    "          4: 'Charmander',\n", 
    "          5: 'Charmeleon',\n", 
    "          6: 'Charizard',\n", 
    "          7: 'Squirtle',\n", 
    "          8: 'Wartortle',\n", 
    "          9: 'Blastoise'},\n", 
    " 'Attack': {1: 49, 2: 62, 3: 82, 4: 52, 5: 64, 6: 84, 7: 48, 8: 63, 9: 83},\n", 
    " 'Defense': {1: 49, 2: 63, 3: 83, 4: 43, 5: 58, 6: 78, 7: 65, 8: 80, 9: 100},\n", 
    " 'HP': {1: 45, 2: 60, 3: 80, 4: 39, 5: 58, 6: 78, 7: 44, 8: 59, 9: 79},\n", 
    " 'Sp. Atk': {1: 65, 2: 80, 3: 100, 4: 60, 5: 80, 6: 109, 7: 50, 8: 65, 9: 85},\n", 
    " 'Sp. Def': {1: 65, 2: 80, 3: 100, 4: 50, 5: 65, 6: 85, 7: 64, 8: 80, 9: 105},\n", 
    " 'Speed': {1: 45, 2: 60, 3: 80, 4: 65, 5: 80, 6: 100, 7: 43, 8: 58, 9: 78}\n", 
    "}\n", 
    "\ntype(poke_dict)"
   ], 
   "metadata": {
    "collapsed": true
   }
  }, 
  {
   "cell_type": "code", 
   "execution_count": null, 
   "outputs": [], 
   "outputExpanded": false, 
   "source": [
    "# part b\n", 
    "pokemon = pd.DataFrame(poke_dict)\n", 
    "type(poke_dict)"
   ], 
   "metadata": {
    "collapsed": true
   }
  }, 
  {
   "cell_type": "code", 
   "execution_count": null, 
   "outputs": [], 
   "outputExpanded": false, 
   "source": [
    "# part c\n", 
    "pokemon.shape"
   ], 
   "metadata": {
    "collapsed": true
   }
  }, 
  {
   "cell_type": "code", 
   "execution_count": null, 
   "outputs": [], 
   "outputExpanded": false, 
   "source": [
    "# part d\n", 
    "pokemon.columns\n", 
    "\n", 
    "# or pokemon.columns.tolist()\n", 
    "# or list(pokemon)"
   ], 
   "metadata": {
    "collapsed": true
   }
  }, 
  {
   "cell_type": "code", 
   "execution_count": null, 
   "outputs": [], 
   "outputExpanded": false, 
   "source": [
    "# part e\n", 
    "pokemon.dtypes\n", 
    "\n", 
    "# object is how pandas represents anything that isn't a number -- in this case string\n", 
    "# int64 is an integer"
   ], 
   "metadata": {
    "collapsed": true
   }
  }, 
  {
   "cell_type": "code", 
   "execution_count": null, 
   "outputs": [], 
   "outputExpanded": false, 
   "source": [
    "# part f\n", 
    "squirt = pokemon.tail(3)\n", 
    "\n", 
    "# df.tail(n) returns a dataframe with the last `n` rows of df.\n", 
    "# thus, squirt is the last 3 rows of pokemon"
   ], 
   "metadata": {
    "collapsed": true
   }
  }, 
  {
   "source": [
    "## Question 7\n", 
    "\n", 
    "<!-- This question should test the students ability to access/create columns in the DataFrame -->\n", 
    "\n", 
    "Please answer the questions below, giving each part its own code cell:\n", 
    "\n", 
    "(a) Set the index to be the `Name` column. Make sure to save the result as `pokemon` for the following questions\n", 
    "\n", 
    "(b) Compute the mean of the `Speed` column.\n", 
    "\n", 
    "(c) Create a new column named `Balance` that is the ratio of the `Attack / (HP + Defense)`\n", 
    "\n", 
    "(d) Create a horizontal bar plot of the `Balance` column\n", 
    "\n(20 points)"
   ], 
   "cell_type": "markdown", 
   "outputExpanded": false, 
   "outputs": [], 
   "metadata": {}
  }, 
  {
   "cell_type": "code", 
   "execution_count": null, 
   "outputs": [], 
   "outputExpanded": false, 
   "source": [
    "# part a\n", 
    "pokemon = pokemon.set_index(\"Name\")"
   ], 
   "metadata": {
    "collapsed": false
   }
  }, 
  {
   "cell_type": "code", 
   "execution_count": null, 
   "outputs": [], 
   "outputExpanded": false, 
   "source": [
    "# part b\n", 
    "pokemon[\"Speed\"].mean()"
   ], 
   "metadata": {
    "collapsed": false
   }
  }, 
  {
   "cell_type": "code", 
   "execution_count": null, 
   "outputs": [], 
   "outputExpanded": false, 
   "source": [
    "# part c\n", 
    "pokemon[\"Balance\"] = pokemon[\"Attack\"] / (pokemon[\"HP\"] + pokemon[\"Speed\"])"
   ], 
   "metadata": {
    "collapsed": true
   }
  }, 
  {
   "cell_type": "code", 
   "execution_count": null, 
   "outputs": [], 
   "outputExpanded": false, 
   "source": [
    "# part d\n", 
    "pokemon[\"Balance\"].plot(kind=\"barh\")"
   ], 
   "metadata": {
    "collapsed": false
   }
  }, 
  {
   "source": [
    "## Question 8\n", 
    "\n", 
    "<!-- This question should be about customizing a plot -->\n", 
    "\n", 
    "Please do all parts below in _the same_ code cell. Leave comments in the code that help us find the code that corresponds to each part\n", 
    "\n", 
    "(a) Create a figure with two rows and one column of axes\n", 
    "\n", 
    "(b) In the top axes, make a pie chart of using the `Sp. Atk` column. Turn the legend off\n", 
    "\n", 
    "(c) In the bottom axes, make a bar chart using the `Sp. Def` column. Make the bars orange and turn the legend off\n", 
    "\n", 
    "(d) Set the title on the top axes to be \"Special abilities\"\n", 
    "\n", 
    "(e) (bonus) Apply any other customizations you think would make the plot look better\n", 
    "\n(20 points + 5 bonus)"
   ], 
   "cell_type": "markdown", 
   "outputExpanded": false, 
   "outputs": [], 
   "metadata": {}
  }, 
  {
   "cell_type": "code", 
   "execution_count": null, 
   "outputs": [], 
   "outputExpanded": false, 
   "source": [
    "# part a\n", 
    "fig, ax = plt.subplots(2, 1)\n", 
    "\n", 
    "# part b\n", 
    "pokemon.plot.pie(ax=ax[0], y=\"Sp. Atk\", legend=False)\n", 
    "\n", 
    "# part c\n", 
    "pokemon.plot.bar(ax=ax[1], y=\"Sp. Def\", legend=False, color=\"orange\")\n", 
    "\n", 
    "# part d\n", 
    "ax[0].set_title(\"Special abilities\")\n", 
    "\n", 
    "# part e\n", 
    "ax[0].set_ylabel(\"\")"
   ], 
   "metadata": {
    "collapsed": false
   }
  }, 
  {
   "cell_type": "code", 
   "execution_count": null, 
   "outputs": [], 
   "outputExpanded": false, 
   "source": [], 
   "metadata": {
    "collapsed": true
   }
  }
 ], 
 "metadata": {
  "kernelspec": {
   "display_name": "Python 3", 
   "name": "python3", 
   "language": "python"
  }, 
  "kernel_info": {
   "name": "python3"
  }, 
  "language_info": {
   "mimetype": "text/x-python", 
   "nbconvert_exporter": "python", 
   "name": "python", 
   "pygments_lexer": "ipython3", 
   "version": "3.5.2", 
   "file_extension": ".py", 
   "codemirror_mode": {
    "version": 3, 
    "name": "ipython"
   }
  }, 
  "anaconda-cloud": {}
 }
}