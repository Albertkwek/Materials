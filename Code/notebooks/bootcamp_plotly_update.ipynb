{
 "cells": [
  {
   "cell_type": "markdown",
   "metadata": {},
   "source": [
    "# Plotly\n",
    "\n",
    "---\n",
    "**Overview.**  We introduce and apply a new and exciting graphics package [plotly](https://plot.ly/python/).  We show how we can leverage our knowledge of Matplotlib to jumpstart our usage of plotly. We then show how to access some of [plotly's unique features](https://plot.ly/python/) to do things that are difficult or impossible with our knowledge of matplotilb.\n",
    "\n",
    "**Outline**\n",
    "\n",
    "- [Loading data](#data): `pd.read_html` example to get latitude and longitude coordinates for country capitals\n",
    "- [Matplotlylib](#matplotlylib): converting a matplotlib figure to a plotly figure\n",
    "- [Plotly api](#api): covers the basics of plotly's own api\n",
    "- [Maps](#maps): building maps with plotly\n",
    "\n",
    "\n",
    "**Note: requires internet access to run.**  \n",
    "\n",
    "This Jupyter notebook was created by Dave Backus, Chase Coleman, and Spencer Lyon for the NYU Stern course [Data Bootcamp](http://databootcamp.nyuecon.com/).  \n",
    "\n",
    "---"
   ]
  },
  {
   "cell_type": "markdown",
   "metadata": {},
   "source": [
    "## Reminders\n",
    "\n",
    "* Packages.  Collections of tools that extend Python's capabilities. We add them with `import` statements.  \n",
    "* `conda` and `pip`: package managers for python. Install new packages using `conda install package_name` or `pip3 install package name`.\n",
    "\n",
    "We will need to have the plotly python package installed. To do this enter the\n",
    "following from the command line (command prompt on windows, terminal on mac):\n",
    "\n",
    "```\n",
    "pip install plotly --upgrade\n",
    "pip install cufflinks\n",
    "conda install -c anaconda pandas-datareader=0.2.1\n",
    "conda install -c anaconda html5lib=0.999\n",
    "conda install -c anaconda lxml=3.7.3\n",
    "```\n",
    "\n",
    "Once you've done that, come back to this notebook and run the following cell to\n",
    "make sure plotly is installed properly."
   ]
  },
  {
   "cell_type": "code",
   "execution_count": null,
   "metadata": {
    "collapsed": false
   },
   "outputs": [],
   "source": [
    "import numpy as np                              # foundation for Pandas\n",
    "import pandas as pd                             # data package\n",
    "from pandas_datareader import wb, data as web   # worldbank data\n",
    "import html5lib\n",
    "\n",
    "import matplotlib.pyplot as plt                 # graphics module  \n",
    "import datetime as dt                           # date and time module\n",
    "import seaborn.apionly as sns                   # fancy matplotlib graphics (no styling)\n",
    "\n",
    "# plotly imports\n",
    "import plotly                                   # just to print version and init notebook\n",
    "from plotly.offline import iplot, iplot_mpl     # plotting functions\n",
    "import plotly.graph_objs as go                  # ditto\n",
    "\n",
    "# these lines make our graphics show up in the notebook\n",
    "%matplotlib inline             \n",
    "plotly.offline.init_notebook_mode(connected=True)\n",
    "\n",
    "import cufflinks as cf                       # gives us df.iplot that feels like df.plot\n",
    "cf.set_config_file(offline=True, offline_show_link=False)\n",
    "\n",
    "# check versions (overkill, but why not?)\n",
    "print('Pandas version: ', pd.__version__)\n",
    "print('Plotly version: ', plotly.__version__)\n",
    "print('Today: ', dt.date.today())"
   ]
  },
  {
   "cell_type": "markdown",
   "metadata": {},
   "source": [
    "## Data Sources <a id=data></a>\n",
    "\n",
    "Before we get too far, we'll need some data. Let's get some now.\n",
    "\n",
    "First we will download national data from the World Bank for all countries in Europe. In order to put this data on a map we will need to have either the 3 letter ISO code for the country or latitude and longitude coordinates. We'll grab both here. This will be a little sophistocated, so bear with us. \n",
    "\n",
    "### Latitude and Longitude data\n",
    "\n",
    "We show these steps here so that you can re-use this code if you want to do something similar in the future.\n",
    "\n",
    "* [Latitude and longitude coordinates](http://www.csgnetwork.com/llinfotable.html): `http://www.csgnetwork.com/llinfotable.html`\n",
    "\n",
    "* use `pd.read_html`: Read HTML tables into a ``list`` of ``DataFrame`` objects.\n",
    " - first arg: A URL, a file-like object, or **raw string containing HTML**\n",
    " - attrs : dict or None, optional\n",
    "     * This is a dictionary of attributes that you can pass to use to identify the table in the HTML. These attributes must be [valid](https://www.w3.org/TR/REC-html40/struct/tables.html#h-11.2) HTML table attributes to work correctly. For example, `attrs = {'id': 'table'}` is a valid attribute dictionary because the 'id' HTML tag attribute is a valid HTML attribute for *any* HTML tag\n",
    " - Right click + Inspect\n"
   ]
  },
  {
   "cell_type": "code",
   "execution_count": null,
   "metadata": {
    "collapsed": false
   },
   "outputs": [],
   "source": [
    "# read a list of latitude and longitude coordinates for\n",
    "# country capitals\n",
    "lat_lon = pd.read_html(\"http://www.csgnetwork.com/llinfotable.html\", header=0, \n",
    "                       attrs={\"align\": \"center\", \"cellpadding\": 5, \"bgcolor\": \"#FFFFFF\"})[0]"
   ]
  },
  {
   "cell_type": "code",
   "execution_count": null,
   "metadata": {
    "collapsed": false
   },
   "outputs": [],
   "source": [
    "lat_lon.head()"
   ]
  },
  {
   "cell_type": "code",
   "execution_count": null,
   "metadata": {
    "collapsed": false
   },
   "outputs": [],
   "source": [
    "lat_lon.dtypes"
   ]
  },
  {
   "cell_type": "code",
   "execution_count": null,
   "metadata": {
    "collapsed": false
   },
   "outputs": [],
   "source": [
    "lat_lon['Latitude'].str.split(\"°\")"
   ]
  },
  {
   "cell_type": "code",
   "execution_count": null,
   "metadata": {
    "collapsed": false
   },
   "outputs": [],
   "source": [
    "lat_lon['Latitude'].str.split(\"°\").str.get(1)\n",
    "#lat_lon['Latitude'].str.split(\"°\").str.get(1).str.split(\"'\")\n",
    "#lat_lon['Latitude'].str.split(\"°\").str.get(1).str.split(\"'\").str[0].astype(float)\n",
    "#lat_lon['Latitude'].str.split(\"°\").str.get(1).str.split(\"'\").str[0].astype(float)/60\n",
    "#(lat_lon['Latitude'].str.split(\"°\").str.get(1).str.split(\"'\").str[0].astype(float)/60).astype(str).str.lstrip('0')"
   ]
  },
  {
   "cell_type": "code",
   "execution_count": null,
   "metadata": {
    "collapsed": false
   },
   "outputs": [],
   "source": [
    "# If the RHS is S, set the sign negative\n",
    "#lat_lon['Latitude'].str.split(\"°\").str.get(1).str.split(\"'\").str[1] == 'S'\n",
    "(lat_lon['Latitude'].str.split(\"°\").str.get(1).str.split(\"'\").str[1] == 'S').replace({True: '-', False: \"\"})"
   ]
  },
  {
   "cell_type": "code",
   "execution_count": null,
   "metadata": {
    "collapsed": false
   },
   "outputs": [],
   "source": [
    "# clean up so lat and long are numeric in degrees east and degrees north\n",
    "def clean_latlon(series, to_negate):\n",
    "    # get XX.YY data\n",
    "    split1 = series.str.split(\"°\")\n",
    "    split2 = split1.str.get(1).str.split(\"'\")\n",
    "    data = split1.str.get(0) + (split2.str.get(0).astype(float)/60).astype(str).str.lstrip('0')\n",
    "    \n",
    "    # now add a negative side if last character == to_negate\n",
    "    signs = split2.str.get(1) == to_negate\n",
    "    signs = signs.replace({True: \"-\", False: \"\"})\n",
    "    \n",
    "    data = signs.str[:] + data.str[:]\n",
    "    return data.astype(float)\n",
    "    \n",
    "lat_lon[\"Latitude\"] = clean_latlon(lat_lon[\"Latitude\"], \"S\")\n",
    "lat_lon[\"Longitude\"] = clean_latlon(lat_lon[\"Longitude\"], \"W\")\n",
    "lat_lon = lat_lon.drop(\"Capital\", axis=1)\n",
    "#lat_lon = lat_lon.set_index(\"Country\")\n",
    "lat_lon.head()"
   ]
  },
  {
   "cell_type": "markdown",
   "metadata": {},
   "source": [
    "### ISO codes\n",
    "\n",
    "Access the ISO codes from [this website]('https://unstats.un.org/unsd/methodology/m49/')\n",
    "\n",
    "`'https://unstats.un.org/unsd/methodology/m49/'`"
   ]
  },
  {
   "cell_type": "code",
   "execution_count": null,
   "metadata": {
    "collapsed": true
   },
   "outputs": [],
   "source": [
    "#import ssl\n",
    "#ssl._create_default_https_context = ssl._create_unverified_context"
   ]
  },
  {
   "cell_type": "code",
   "execution_count": null,
   "metadata": {
    "collapsed": true
   },
   "outputs": [],
   "source": [
    "import requests\n",
    "from bs4 import BeautifulSoup"
   ]
  },
  {
   "cell_type": "code",
   "execution_count": null,
   "metadata": {
    "collapsed": false
   },
   "outputs": [],
   "source": [
    "# dataframe of country names and iso codes\n",
    "url = 'https://unstats.un.org/unsd/methodology/m49/'\n",
    "iso_raw = requests.get(url)\n",
    "iso_soup = BeautifulSoup(iso_raw.content, 'html.parser')"
   ]
  },
  {
   "cell_type": "code",
   "execution_count": null,
   "metadata": {
    "collapsed": false
   },
   "outputs": [],
   "source": [
    "iso_soup.find_all('table')[0]"
   ]
  },
  {
   "cell_type": "markdown",
   "metadata": {},
   "source": [
    "Efficient way of scraping: if the html contains 'table' tags, we can pass it straight to 'pd.read_html' (sometimes it doesn't work with the url)."
   ]
  },
  {
   "cell_type": "code",
   "execution_count": null,
   "metadata": {
    "collapsed": true
   },
   "outputs": [],
   "source": [
    "#pd.read_html?"
   ]
  },
  {
   "cell_type": "code",
   "execution_count": null,
   "metadata": {
    "collapsed": false
   },
   "outputs": [],
   "source": [
    "iso = pd.read_html(str(iso_soup.find_all('table')[0]), header=0)\n",
    "print(iso)\n",
    "iso = pd.read_html(str(iso_soup.find_all('table')[0]), header=0)[0]"
   ]
  },
  {
   "cell_type": "code",
   "execution_count": null,
   "metadata": {
    "collapsed": false,
    "scrolled": true
   },
   "outputs": [],
   "source": [
    "iso.shape"
   ]
  },
  {
   "cell_type": "code",
   "execution_count": null,
   "metadata": {
    "collapsed": false
   },
   "outputs": [],
   "source": [
    "iso = iso.rename(columns={\"ISO-alpha3 code\": \"ISO\", \"Country or Area\": \"Country\"})\n",
    "iso = iso.drop(\"M49 code\", axis=1)\n",
    "#iso = iso.set_index(\"Country\")\n",
    "iso.head()"
   ]
  },
  {
   "cell_type": "code",
   "execution_count": null,
   "metadata": {
    "collapsed": false
   },
   "outputs": [],
   "source": [
    "iso.tail()"
   ]
  },
  {
   "cell_type": "markdown",
   "metadata": {},
   "source": [
    "### Publications (scientific and technical journal articles)"
   ]
  },
  {
   "cell_type": "code",
   "execution_count": null,
   "metadata": {
    "collapsed": true
   },
   "outputs": [],
   "source": [
    "# select 44 european countries\n",
    "europe = [\"Albania\",  \"Andorra\",  \"Armenia\",  \"Austria\",  \"Azerbaijan\",  \"Belarus\",\n",
    "              \"Belgium\",  \"Bosnia and Herzegovina\",  \"Bulgaria\",  \"Croatia\",  \"Cyprus\",\n",
    "              \"Czech Republic\",  \"Denmark\",  \"Estonia\",  \"Finland\",  \"France\",  \"Georgia\",\n",
    "              \"Germany\",  \"Greece\",  \"Hungary\",  \"Iceland\",  \"Ireland\",  \"Italy\",\n",
    "              \"Kazakhstan\",  \"Kosovo\",  \"Latvia\",  \"Liechtenstein\",  \"Lithuania\",\n",
    "              \"Luxembourg\",  \"Macedonia\",  \"Malta\",  \"Moldova\",  \"Monaco\",  \"Montenegro\",\n",
    "              \"Netherlands\",  \"Norway\",  \"Poland\",  \"Portugal\",  \"Romania\",  \"Russia\",  \n",
    "              \"San Marino\",  \"Serbia\",  \"Slovakia\",  \"Slovenia\",  \"Spain\",  \"Sweden\",\n",
    "              \"Switzerland\",  \"Turkey\",  \"Ukraine\",  \"United Kingdom\",  \"Vatican City\"]"
   ]
  },
  {
   "cell_type": "code",
   "execution_count": null,
   "metadata": {
    "collapsed": false
   },
   "outputs": [],
   "source": [
    "iso[iso['Country'].isin(europe)]"
   ]
  },
  {
   "cell_type": "code",
   "execution_count": null,
   "metadata": {
    "collapsed": false
   },
   "outputs": [],
   "source": [
    "def euro_wb_data(indicators, year=2013):                   # get data from worldbank\n",
    "\n",
    "    iso_europe = iso[iso['Country'].isin(europe)]\n",
    "\n",
    "    # IP.JRN.ARTC.SC is \"scientific and technical journal articles\"\n",
    "    # NOTE: visit the world bank website to pick a different subject if you'd like\n",
    "    # link: http://data.worldbank.org/indicator\n",
    "    df = wb.download(country=iso_europe[\"ISO\"], indicator=indicators, \n",
    "                         start=year, end=year)\n",
    "    df = df.reset_index(level=\"year\")\n",
    "    df.index.name = \"Country\"\n",
    "\n",
    "    # some countries didn't have data. Drop them now\n",
    "    df = df.dropna()\n",
    "    \n",
    "    return df\n",
    "\n",
    "\n",
    "papers = euro_wb_data([\"IP.JRN.ARTC.SC\"])\n",
    "papers.rename(columns={\"IP.JRN.ARTC.SC\": \"publications\"}, inplace=True)\n",
    "papers = papers.reset_index()\n",
    "papers.head()"
   ]
  },
  {
   "cell_type": "markdown",
   "metadata": {},
   "source": [
    "### Merge"
   ]
  },
  {
   "cell_type": "code",
   "execution_count": null,
   "metadata": {
    "collapsed": false
   },
   "outputs": [],
   "source": [
    "papers = pd.merge(papers, iso, on = 'Country', how='left')\n",
    "papers.head()"
   ]
  },
  {
   "cell_type": "code",
   "execution_count": null,
   "metadata": {
    "collapsed": false
   },
   "outputs": [],
   "source": [
    "papers.shape"
   ]
  },
  {
   "cell_type": "code",
   "execution_count": null,
   "metadata": {
    "collapsed": false
   },
   "outputs": [],
   "source": [
    "papers = pd.merge(papers, lat_lon, on = 'Country', how='left')\n",
    "papers.head()"
   ]
  },
  {
   "cell_type": "code",
   "execution_count": null,
   "metadata": {
    "collapsed": false
   },
   "outputs": [],
   "source": [
    "papers.shape"
   ]
  },
  {
   "cell_type": "code",
   "execution_count": null,
   "metadata": {
    "collapsed": false
   },
   "outputs": [],
   "source": [
    "papers = papers.set_index('Country')\n",
    "papers.head()"
   ]
  },
  {
   "cell_type": "markdown",
   "metadata": {},
   "source": [
    "## Other data sources"
   ]
  },
  {
   "cell_type": "code",
   "execution_count": null,
   "metadata": {
    "collapsed": false
   },
   "outputs": [],
   "source": [
    "# Earnings by school and gender. Source plotly docs. Real source, unknown\n",
    "url = \"https://raw.githubusercontent.com/plotly/datasets/master/school_earnings.csv\"\n",
    "earnings = pd.read_csv(url)\n",
    "print(earnings.head())\n",
    "\n",
    "earnings = earnings.set_index(\"School\")\n",
    "earnings = earnings.sort_values(\"Women\")\n",
    "print(\"\\n\\nAfter set_index and sort_values:\\n\")\n",
    "print(earnings.head())"
   ]
  },
  {
   "cell_type": "code",
   "execution_count": null,
   "metadata": {
    "collapsed": false
   },
   "outputs": [],
   "source": [
    "# tips at restaurants in NYC. Source unknown, but classic dataset\n",
    "tips = sns.load_dataset(\"tips\")\n",
    "tips.head()"
   ]
  },
  {
   "cell_type": "code",
   "execution_count": null,
   "metadata": {
    "collapsed": false
   },
   "outputs": [],
   "source": [
    "# info on titanic passengers. Source unknown.\n",
    "titanic = sns.load_dataset(\"titanic\")\n",
    "titanic.head()"
   ]
  },
  {
   "cell_type": "markdown",
   "metadata": {},
   "source": [
    "## Background\n",
    "\n",
    "Plotly is a **javascript based plotting library**. Plotly leverages industry grade\n",
    "javascript technologies to provide great flexibility and good performance.\n",
    "\n",
    "\n",
    "Being a javascript library, plotly graphics are **inherently interactive** meant to be \n",
    "viewed in a webbrowser. The good news is that **we can embed our interactive \n",
    "plots in any website:** Jupyter notebooks, blog posts, etc. The *great* news is \n",
    "that we don't have to write any javascript ourselves!\n",
    "\n",
    "The plotly project was started about five years ago. Over that time, plotly has\n",
    "transitioned between three phases:\n",
    "\n",
    "1. Online only mode: plotly started as a web service where you uploaded your\n",
    "data and constructed plots on their website.\n",
    "2. Online plotting mode: the next phase was to allow you to build plots from\n",
    "your favorite programming language (Python!), but the plots were actually\n",
    "created on their servers and you were given a link to view the plot on their\n",
    "website.\n",
    "3. Offline mode: You can now construct plotly graphics 100% offline. While all\n",
    "three modes still exist, we will use the purely offline mode in our notes."
   ]
  },
  {
   "cell_type": "markdown",
   "metadata": {},
   "source": [
    "## Matplotlylib <a id=matplotlylib></a>\n",
    "\n",
    "As a warmup, let's utilize our expertise of Matplotlib to quickly generate some basic plotly graphics. \n",
    "\n",
    "The main steps in this process are:\n",
    "\n",
    "1. Construct a matplotlib figure as we normally do.\n",
    "2. Pass the `Figure` object (usually named `fig` in our examples) to the function `iplot_mpl`.\n",
    "\n",
    "That's it!\n",
    "\n",
    "**Disclaimer**: the functions that convert matplotlib figures to plotly figures are not perfect. We'll see some issues below, but will show how to build the plots using plotly's API so they look as we expect.\n"
   ]
  },
  {
   "cell_type": "markdown",
   "metadata": {},
   "source": [
    "We'll start by looking at some examples from the seaborn documentation. The actual figures are not important here. We are mostly concerned with how well matplotlylib can take a matplotlib figure and construct a plotly figure."
   ]
  },
  {
   "cell_type": "code",
   "execution_count": null,
   "metadata": {
    "collapsed": false
   },
   "outputs": [],
   "source": [
    "ax = sns.swarmplot(x=\"day\", y=\"total_bill\", data=tips)\n",
    "fig_mpl = ax.get_figure()"
   ]
  },
  {
   "cell_type": "markdown",
   "metadata": {},
   "source": [
    "Now let's convert our Matplotlib figure `fig_mpl` into a plotly figure named `fig_py`. To do this we will use the function `iplot_mpl` as follows:"
   ]
  },
  {
   "cell_type": "code",
   "execution_count": null,
   "metadata": {
    "collapsed": false
   },
   "outputs": [],
   "source": [
    "iplot_mpl(fig_mpl)"
   ]
  },
  {
   "cell_type": "markdown",
   "metadata": {},
   "source": [
    "For this example we see that the converter did a decent job, though it didn't quite get the xlabels correct"
   ]
  },
  {
   "cell_type": "markdown",
   "metadata": {},
   "source": [
    "Let's try another example"
   ]
  },
  {
   "cell_type": "code",
   "execution_count": null,
   "metadata": {
    "collapsed": false
   },
   "outputs": [],
   "source": [
    "out = sns.pointplot(x=\"class\", y=\"survived\", hue=\"sex\", data=titanic,\n",
    "                    palette={\"male\": \"g\", \"female\": \"m\"},\n",
    "                    markers=[\"^\", \"o\"], linestyles=[\"-\", \"--\"]);"
   ]
  },
  {
   "cell_type": "code",
   "execution_count": null,
   "metadata": {
    "collapsed": false
   },
   "outputs": [],
   "source": [
    "iplot_mpl(out.get_figure())"
   ]
  },
  {
   "cell_type": "markdown",
   "metadata": {},
   "source": [
    "What worked well in this conversion? What didn't work?"
   ]
  },
  {
   "cell_type": "markdown",
   "metadata": {},
   "source": [
    "Let's do one more example using the college graduate data"
   ]
  },
  {
   "cell_type": "code",
   "execution_count": null,
   "metadata": {
    "collapsed": false
   },
   "outputs": [],
   "source": [
    "fig_mpl, ax = plt.subplots(figsize=(6, 10))\n",
    "earnings.plot.barh(ax=ax, y=\"Men\", color=\"Blue\")\n",
    "earnings.plot.barh(ax=ax, y=\"Women\", color=\"Pink\")"
   ]
  },
  {
   "cell_type": "code",
   "execution_count": null,
   "metadata": {
    "collapsed": false
   },
   "outputs": [],
   "source": [
    "iplot_mpl(fig_mpl)"
   ]
  },
  {
   "cell_type": "markdown",
   "metadata": {},
   "source": [
    "What did and didn't work here?\n",
    "\n",
    "Below we'll recreate this same figure using plotly's api and overcome these issues"
   ]
  },
  {
   "cell_type": "markdown",
   "metadata": {},
   "source": [
    "## Plotly API <a id=api></a>\n",
    "\n",
    "Let's now consider how to use plotly's own API to construct plots instead of\n",
    "building the graphics through matplotlib. \n",
    "\n",
    "Plotly has over 20 core chart types and many more can be created by combining one or more chart types in the same figure. We don't have time to cover all of them here, but please check out the [documentation](https://plot.ly/python/)."
   ]
  },
  {
   "cell_type": "markdown",
   "metadata": {},
   "source": [
    "Plotly has a purely **declarative** API. This means that we describe all the\n",
    "features we want in our figure at once, without worrying about which functions\n",
    "to call in what order.\n",
    "\n",
    "The plotly can achieve this is by fully describing the plot in a data format called JSON. \n",
    "For our purposes we can think of JSON as dictionaries, where values can be of any type, \n",
    "including other dictionaries."
   ]
  },
  {
   "cell_type": "markdown",
   "metadata": {},
   "source": [
    "Plotly figures are composed of two things:\n",
    "\n",
    "1. A list of **trace**s that describe the data that will be plotted and how it should appear\n",
    "2. A **layout** that describes features of the overall plot. Things like ticks, labels, titles, fonts, margins, etc.\n",
    "\n",
    "The `trace`s describe the data that should be plotted as well as how it should be displayed. Here's an example of a trace defining a scatter plot:\n",
    "\n",
    "```python\n",
    "trace = dict(type=\"scatter\",  # trace type\n",
    "             x=[1, 2, 3],     # x data\n",
    "             y=[1, 4, 9],     # y data\n",
    "             name=\"Squares\"   # legend label\n",
    "             )\n",
    "```\n",
    "\n",
    "In this example, `x`, `y`, `name` and `marker` are called the **attributes** of the trace. All traces have a `type` attribute that describes the type of chart to generate for a particular piece of data. Here we chose `scatter`, which is what plotly calls scatter plots or line plots.\n",
    "\n",
    "An example of a `layout` is\n",
    "\n",
    "```python\n",
    "l = dict(title=\"Penguins food\",            # plot title\n",
    "         yaxis=dict(title=\"Quantity (%)\",  # yaxis label\n",
    "                    range=(0, 1)           # set limits for y axis\n",
    "         )\n",
    "```\n",
    "\n",
    "Notice that the value associated with `yaxis` had type `dict`. This allowed us to control features of the yaxis.\n",
    "\n",
    "For an overwhelmingly comprehensive overview of all trace types and their associated attributes (everything plotly can do) see the chart attribute [reference](https://plot.ly/python/reference/) in the plotly python documentation"
   ]
  },
  {
   "cell_type": "markdown",
   "metadata": {},
   "source": [
    "After we have defined one or more traces and a layout, we build the plotly figure using the function `plotly.graph_objs.Figure`. The imports up top allow us to refer to this function as `go.Figure`. This is how we call the function:\n",
    "\n",
    "```python\n",
    "fig = go.Figure(data=D, layout=L)\n",
    "```\n",
    "\n",
    "where `D` is a list of **traces** and `L` describes the **layout**."
   ]
  },
  {
   "cell_type": "markdown",
   "metadata": {},
   "source": [
    "Finally, the last thing we need to know how to do is display the figure. In the notebook we will use the function `plotly.offline.iplot`, which we imported directly as `iplot`. To display the figure above we would do\n",
    "\n",
    "```python\n",
    "iplot(fig)\n",
    "```"
   ]
  },
  {
   "cell_type": "markdown",
   "metadata": {
    "collapsed": true
   },
   "source": [
    "To get a feel for what this looks like, let's revisit the horizontal bar chart using the college grad earnings data.\n",
    "\n",
    "Here's how we might build that figure using plotly's API"
   ]
  },
  {
   "cell_type": "code",
   "execution_count": null,
   "metadata": {
    "collapsed": false
   },
   "outputs": [],
   "source": [
    "# the long way. Construct all the dicts by hand\n",
    "men = dict(type=\"bar\",                                      # trace type\n",
    "           orientation=\"h\",                                 # make bars horizontal\n",
    "           name=\"Men\",                                      # legend entry\n",
    "           x=earnings[\"Men\"],                               # x data\n",
    "           y=earnings.index,                                # y data\n",
    "           marker={\"color\": \"Blue\"}                         # blue bars\n",
    "          )\n",
    "women = dict(type=\"bar\",                                    # trace type\n",
    "             orientation=\"h\",                               # horizontal bars\n",
    "             name=\"Women\",                                  # legend entry\n",
    "             x=earnings[\"Women\"],                           # x data\n",
    "             y=earnings.index,                              # y data\n",
    "             marker={\"color\": \"Pink\"}                       # pink bars\n",
    "            )\n",
    "layout = dict(width=650, height=750,                        # plot width/height\n",
    "              yaxis={\"title\": \"School\"},                    # yaxis label\n",
    "              title=\"Gender earnings disparity\",            # title\n",
    "              xaxis={\"title\": \"Annual Salary (thousands)\"}  # xaxis label\n",
    "             )\n",
    "iplot(go.Figure(data=[men, women], layout=layout))"
   ]
  },
  {
   "cell_type": "markdown",
   "metadata": {},
   "source": [
    "**Exercise**: now generate a similar plot using the `df.iplot` method. (*Hint* you can reuse the `layout` object from above)"
   ]
  },
  {
   "cell_type": "code",
   "execution_count": null,
   "metadata": {
    "collapsed": false
   },
   "outputs": [],
   "source": [
    "earnings[['Men', 'Women']].iplot(kind='barh', layout=layout)"
   ]
  },
  {
   "cell_type": "markdown",
   "metadata": {},
   "source": [
    "**Example: Dumbell plot**. The striking fact in the data is that there is a gap between earnings of men and women. To highlight that, here's another way we might visualize the same data:"
   ]
  },
  {
   "cell_type": "code",
   "execution_count": null,
   "metadata": {
    "collapsed": false
   },
   "outputs": [],
   "source": [
    "men2 = dict(type=\"scatter\", \n",
    "            name=\"Men\", \n",
    "            mode=\"markers\",                       # draw dots\n",
    "            x=earnings[\"Men\"],                    # x data\n",
    "            y=earnings.index,                     # y data\n",
    "            marker={\"color\": \"Blue\", \"size\": 12}  # dot color/size\n",
    "           )\n",
    "women2 = dict(type=\"scatter\", name=\"Women\", mode=\"markers\",\n",
    "              x=earnings[\"Women\"], y=earnings.index,\n",
    "              marker={\"color\": \"Pink\", \"size\": 12})\n",
    "\n",
    "def draw_line(row):\n",
    "    sc = row.name\n",
    "    line = dict(type=\"scatter\",                # trace type\n",
    "                x=[row[\"Women\"], row[\"Men\"]],  # x data\n",
    "                y=[sc, sc],                    # y data flat\n",
    "                mode=\"lines\",                  # draw line\n",
    "                name=sc,                       # name trace\n",
    "                showlegend=False,              # no legend entry\n",
    "                line={\"color\": \"gray\"}         # line color\n",
    "               )\n",
    "    return line\n",
    "\n",
    "lines = list(earnings.apply(draw_line, axis=1))\n",
    "\n",
    "# use + for two lists\n",
    "data = [men2, women2] + lines  \n",
    "\n",
    "# build and display the figure\n",
    "fig = go.Figure(data=data, layout=layout)\n",
    "iplot(fig)"
   ]
  },
  {
   "cell_type": "markdown",
   "metadata": {},
   "source": [
    "**Exercise**: Look at the [figure attribute reference](https://plot.ly/python/reference/) and figure out how to remove the grid lines from the figure above. First remove the veritcal ones, then horizontal, then both. (*Hint:* Look for an attribute on the `xaxis` and `yaxis` of the layout) (*Hint 2* you can get the layout by doing `fig.layout`)"
   ]
  },
  {
   "cell_type": "code",
   "execution_count": null,
   "metadata": {
    "collapsed": false
   },
   "outputs": [],
   "source": [
    "fig.layout"
   ]
  },
  {
   "cell_type": "code",
   "execution_count": null,
   "metadata": {
    "collapsed": false
   },
   "outputs": [],
   "source": [
    "layout = fig.layout\n",
    "layout['xaxis']['showgrid'] = False\n",
    "layout['yaxis']['showgrid'] = False\n",
    "\n",
    "fig = go.Figure(data=data, layout=layout)\n",
    "iplot(fig)"
   ]
  },
  {
   "cell_type": "markdown",
   "metadata": {},
   "source": [
    "## Maps <a id=maps></a>\n",
    "\n",
    "We will finish this notebook by looking at some new things we can now do because we are using plotly. "
   ]
  },
  {
   "cell_type": "markdown",
   "metadata": {},
   "source": [
    "There are two map-based traces in plotly:\n",
    "\n",
    "- `scattergeo`: this allows you to draw lines or dots on a map\n",
    "- `choropleth`: this allows you to fill regions with different colors\n",
    "\n",
    "There is also the `geo` layout attribute. We'll look"
   ]
  },
  {
   "cell_type": "code",
   "execution_count": null,
   "metadata": {
    "collapsed": false
   },
   "outputs": [],
   "source": [
    "# first create layout/marker objects we can re-use in both plots\n",
    "layout = dict(geo={\"scope\": \"europe\", \"resolution\": 50}, \n",
    "              width=750, height=550)\n",
    "\n",
    "marker = {\"color\": papers[\"publications\"],\n",
    "          \"size\": papers[\"publications\"]/5000,\n",
    "          \"colorscale\": \"Reds\",\n",
    "          \"colorbar\": {\"title\": \"# of papers\"}}"
   ]
  },
  {
   "cell_type": "markdown",
   "metadata": {
    "collapsed": true
   },
   "source": [
    "#### `scattergeo` dots\n",
    "\n",
    "We'll look at the `scattergeo` trace type first. Suppose we want to draw dots on the map. There are two possible sets of trace attributes we can work with:\n",
    "\n",
    "1. Set `lat` and `lon` each to a list that specifiy the latitide and longitude for each point respectively\n",
    "2. Set the `locations` to be one of `\"ISO-3\"`, `\"USA-states\"`, or `\"country names\"` and then set `location` to be a valid member of that mode.\n",
    "\n",
    "We can then set any other attributes \n",
    "\n",
    "Let's see an example of each version:"
   ]
  },
  {
   "cell_type": "code",
   "execution_count": null,
   "metadata": {
    "collapsed": false
   },
   "outputs": [],
   "source": [
    "# using location mode\n",
    "trace = dict(type=\"scattergeo\",        # trace type\n",
    "             mode=\"markers\",           # draw points\n",
    "             locations=papers[\"ISO\"],  # use ISO code\n",
    "             marker=marker             # marker settings (size, color, ...)\n",
    "            )\n",
    "\n",
    "iplot(go.Figure(data=[trace], layout=layout), link_text=\"\")"
   ]
  },
  {
   "cell_type": "code",
   "execution_count": null,
   "metadata": {
    "collapsed": false
   },
   "outputs": [],
   "source": [
    "# using lat/lon mode\n",
    "trace = dict(type=\"scattergeo\",     # trace type\n",
    "             mode=\"markers\",        # draw dots\n",
    "             lat=papers[\"Latitude\"],  # latitude coordinate\n",
    "             lon=papers[\"Longitude\"], # longitude coordinate\n",
    "             marker=marker          # marker settings (color, size...)\n",
    "            )\n",
    "\n",
    "iplot(go.Figure(data=[trace], layout=layout), link_text=\"\")"
   ]
  },
  {
   "cell_type": "markdown",
   "metadata": {},
   "source": [
    "#### `scattergeo` lines\n",
    "\n",
    "Now supppose we want to draw lines from the Italy to France, Germany, and Spain.\n",
    "\n",
    "We can do this using `scattergeo` traces, where the lat and lon attributes on each trace are of length 2. The point will be drawn from `(lat[0], lon[0])` to `(lat[1], lon[1])`:"
   ]
  },
  {
   "cell_type": "code",
   "execution_count": null,
   "metadata": {
    "collapsed": false
   },
   "outputs": [],
   "source": [
    "papers[\"Latitude\"][papers.ISO == \"ITA\"]"
   ]
  },
  {
   "cell_type": "code",
   "execution_count": null,
   "metadata": {
    "collapsed": false
   },
   "outputs": [],
   "source": [
    "papers[\"Latitude\"][papers.ISO == \"ITA\"].iloc[0]"
   ]
  },
  {
   "cell_type": "code",
   "execution_count": null,
   "metadata": {
    "collapsed": false
   },
   "outputs": [],
   "source": [
    "def get_lat_lon_for(df, iso):\n",
    "    lat = df[\"Latitude\"][df[\"ISO\"] == iso]\n",
    "    lon = df[\"Longitude\"][df[\"ISO\"] == iso]\n",
    "    return float(lat.iloc[0]), float(lon.iloc[0])\n",
    "\n",
    "italy_lat, italy_lon = get_lat_lon_for(papers, \"ITA\")\n",
    "traces = []\n",
    "\n",
    "for country in [\"FRA\", \"ESP\", \"DEU\"]:\n",
    "    lat, lon = get_lat_lon_for(papers, country)\n",
    "    trace = dict(type=\"scattergeo\",                # trace type\n",
    "                 mode=\"lines\",                     # draw lines\n",
    "                 lat=[italy_lat, lat],             # latitude coordinates\n",
    "                 lon=[italy_lon, lon],             # longitude coordinates\n",
    "                 line={\"width\": 4.0},              # thick lines\n",
    "                 name=\"ITA to {}\".format(country)  # legend entry\n",
    "                )\n",
    "    traces.append(trace)\n",
    "    \n",
    "iplot(go.Figure(data=traces, layout=layout))"
   ]
  },
  {
   "cell_type": "markdown",
   "metadata": {},
   "source": [
    "### Choropleth\n",
    "\n",
    "The other type of map plotly can create is called a choropleth map. Here we have each region filled in with a solid color.\n",
    "\n",
    "Let's use our country data to see what this looks like"
   ]
  },
  {
   "cell_type": "code",
   "execution_count": null,
   "metadata": {
    "collapsed": false
   },
   "outputs": [],
   "source": [
    "trace = dict(type=\"choropleth\",\n",
    "             locations=papers[\"ISO\"],   # use ISO names\n",
    "             z=papers[\"publications\"],  # defines the color\n",
    "             colorscale=\"Viridis\",      # change pallette\n",
    "             text=papers.index,         # change text on hover\n",
    "             )\n",
    "\n",
    "# reuse the same layout\n",
    "iplot(go.Figure(data=[trace], layout=layout), link_text=\"\")"
   ]
  },
  {
   "cell_type": "markdown",
   "metadata": {
    "collapsed": true
   },
   "source": [
    "### USA States\n",
    "\n",
    "This example was taken directly from the plotly python documentation. See [here](https://plot.ly/python/choropleth-maps/#united-states-choropleth-map)"
   ]
  },
  {
   "cell_type": "code",
   "execution_count": null,
   "metadata": {
    "collapsed": false
   },
   "outputs": [],
   "source": [
    "df = pd.read_csv('https://raw.githubusercontent.com/plotly/datasets/master/2011_us_ag_exports.csv')\n",
    "\n",
    "for col in df.columns:\n",
    "    df[col] = df[col].astype(str)\n",
    "\n",
    "scl = [[0.0, 'rgb(242,240,247)'],[0.2, 'rgb(218,218,235)'],[0.4, 'rgb(188,189,220)'],\\\n",
    "            [0.6, 'rgb(158,154,200)'],[0.8, 'rgb(117,107,177)'],[1.0, 'rgb(84,39,143)']]\n",
    "\n",
    "df['text'] = df['state'] + '<br>' +\\\n",
    "    'Beef '+df['beef']+' Dairy '+df['dairy']+'<br>'+\\\n",
    "    'Fruits '+df['total fruits']+' Veggies ' + df['total veggies']+'<br>'+\\\n",
    "    'Wheat '+df['wheat']+' Corn '+df['corn']\n",
    "\n",
    "data = [ dict(\n",
    "        type='choropleth',\n",
    "        colorscale = scl,\n",
    "        autocolorscale = False,\n",
    "        locations = df['code'],\n",
    "        z = df['total exports'].astype(float),\n",
    "        locationmode = 'USA-states',\n",
    "        text = df['text'],\n",
    "        marker = dict(\n",
    "            line = dict (\n",
    "                color = 'rgb(255,255,255)',\n",
    "                width = 2\n",
    "            ) ),\n",
    "        colorbar = dict(\n",
    "            title = \"Millions USD\")\n",
    "        ) ]\n",
    "\n",
    "layout = dict(\n",
    "        title = '2011 US Agriculture Exports by State<br>(Hover for breakdown)',\n",
    "        geo = dict(\n",
    "            scope='usa',\n",
    "            projection=dict( type='albers usa' ),\n",
    "            showlakes = True,\n",
    "            lakecolor = 'rgb(255, 255, 255)'),\n",
    "             )\n",
    "iplot(go.Figure(data=data, layout=layout), link_text=\"\")"
   ]
  },
  {
   "cell_type": "markdown",
   "metadata": {
    "collapsed": true
   },
   "source": [
    "## Animations\n",
    "\n",
    "You can also embed animations into plotly charts. Here's another example from their documentation"
   ]
  },
  {
   "cell_type": "code",
   "execution_count": null,
   "metadata": {
    "collapsed": false
   },
   "outputs": [],
   "source": [
    "t=np.linspace(-1,1,100)\n",
    "x=t+t**2\n",
    "y=t-t**2\n",
    "xm=np.min(x)-1.5\n",
    "xM=np.max(x)+1.5\n",
    "ym=np.min(y)-1.5\n",
    "yM=np.max(y)+1.5\n",
    "N=50\n",
    "s=np.linspace(-1,1,N)\n",
    "xx=s+s**2\n",
    "yy=s-s**2\n",
    "\n",
    "\n",
    "data=[dict(x=x, y=y,\n",
    "           mode='lines',\n",
    "           line=dict(width=2, color='blue')\n",
    "          ),\n",
    "      dict(x=x, y=y,\n",
    "           mode='lines',\n",
    "           line=dict(width=2, color='blue')\n",
    "          )\n",
    "    ]\n",
    "\n",
    "layout=dict(xaxis=dict(range=[xm, xM], autorange=False, zeroline=False),\n",
    "            yaxis=dict(range=[ym, yM], autorange=False, zeroline=False),\n",
    "            title='Kinematic Generation of a Planar Curve', hovermode='closest',\n",
    "            updatemenus= [{'type': 'buttons',\n",
    "                           'buttons': [{'label': 'Play',\n",
    "                                        'method': 'animate',\n",
    "                                        'args': [[]]}]}])\n",
    "\n",
    "frames=[dict(data=[dict(x=[xx[k]],\n",
    "                        y=[yy[k]],\n",
    "                        mode='markers',\n",
    "                        marker=dict(color='red', size=10)\n",
    "                        )\n",
    "                  ]) for k in range(N)]\n",
    "\n",
    "figure1=dict(data=data, layout=layout, frames=frames)\n",
    "iplot(figure1)"
   ]
  },
  {
   "cell_type": "markdown",
   "metadata": {},
   "source": [
    "### Financial charts\n",
    "\n",
    "Another one from the docs https://plot.ly/python/candlestick-charts/#custom-candlestick-colors"
   ]
  },
  {
   "cell_type": "code",
   "execution_count": null,
   "metadata": {
    "collapsed": false
   },
   "outputs": [],
   "source": [
    "from plotly.tools import FigureFactory as FF\n",
    "from plotly.graph_objs import Line, Marker\n",
    "from datetime import datetime\n",
    "\n",
    "df = web.DataReader(\"aapl\", 'yahoo', datetime(2008, 1, 1), datetime(2009, 4, 1))\n",
    "fig = FF.create_candlestick(df.Open, df.High, df.Low, df.Close, dates=df.index)\n",
    "\n",
    "# Make increasing ohlc sticks and customize their color and name\n",
    "fig_increasing = FF.create_candlestick(df.Open, df.High, df.Low, df.Close, dates=df.index,\n",
    "    direction='increasing', name='AAPL',\n",
    "    marker=Marker(color='rgb(150, 200, 250)'),                                       \n",
    "    line=Line(color='rgb(150, 200, 250)'))\n",
    "\n",
    "# Make decreasing ohlc sticks and customize their color and name\n",
    "fig_decreasing = FF.create_candlestick(df.Open, df.High, df.Low, df.Close, dates=df.index,\n",
    "    direction='decreasing',\n",
    "    marker=Marker(color='rgb(128, 128, 128)'),\n",
    "    line=Line(color='rgb(128, 128, 128)'))\n",
    "\n",
    "# Initialize the figure\n",
    "fig = fig_increasing\n",
    "\n",
    "# Add decreasing data with .extend()\n",
    "fig['data'].extend(fig_decreasing['data'])\n",
    "\n",
    "iplot(fig)"
   ]
  },
  {
   "cell_type": "code",
   "execution_count": null,
   "metadata": {
    "collapsed": true
   },
   "outputs": [],
   "source": []
  }
 ],
 "metadata": {
  "anaconda-cloud": {},
  "kernelspec": {
   "display_name": "Python [conda root]",
   "language": "python",
   "name": "conda-root-py"
  },
  "language_info": {
   "codemirror_mode": {
    "name": "ipython",
    "version": 3
   },
   "file_extension": ".py",
   "mimetype": "text/x-python",
   "name": "python",
   "nbconvert_exporter": "python",
   "pygments_lexer": "ipython3",
   "version": "3.5.2"
  }
 },
 "nbformat": 4,
 "nbformat_minor": 0
}
