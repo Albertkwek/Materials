{
 "nbformat_minor": 1, 
 "nbformat": 4, 
 "cells": [
  {
   "source": [
    "# Timeseries\n", 
    "\n", 
    "---\n", 
    "**Overview.**  We introduce the tools for working with dates, times, and time series data. We start with functionality built into python itself, then discuss how pandas builds on these tools to add powerful time series capabilities to DataFrames.\n", 
    "\n", 
    "**Outline**\n", 
    "\n", 
    "- [Quandl](#data): We show how to use the quandl package to access a large database of financial and economic dat.\n", 
    "- [Dates in python](#datetime): covers the basics of working with dates and times in python\n", 
    "- [Dates in pandas](#pandas_dates): shows how to use dates with pandas objects\n", 
    "\n", 
    "\n", 
    "**Note: requires internet access to run.**  \n", 
    "\n", 
    "This Jupyter notebook was created by Chase Coleman and Spencer Lyon for the NYU Stern course [Data Bootcamp](http://databootcamp.nyuecon.com/).  \n", 
    "\n", 
    "In order to run the code in this notebook, you will need to have the quandl package installed. You can do this from the command line using\n", 
    "\n", 
    "```\n", 
    "pip install quandl --upgrade\n", 
    "```\n", 
    "\n", 
    "---"
   ], 
   "cell_type": "markdown", 
   "metadata": {}
  }, 
  {
   "execution_count": null, 
   "cell_type": "code", 
   "source": [
    "import sys                             # system module\n", 
    "import pandas as pd                    # data package\n", 
    "import matplotlib.pyplot as plt        # graphics module  \n", 
    "import datetime as dt                  # date and time module\n", 
    "import numpy as np\n", 
    "%matplotlib inline    \n", 
    "plt.style.use(\"ggplot\")\n", 
    "\n", 
    "# quandl package\n", 
    "import quandl\n", 
    "\n", 
    "# check versions (overkill, but why not?)\n", 
    "print('Python version:', sys.version)\n", 
    "print('Pandas version: ', pd.__version__)\n", 
    "print('quandl version: ', quandl.version.VERSION)\n", 
    "print('Today: ', dt.date.today())\n", 
    "\n", 
    "# helper function to print info about dataframe\n", 
    "\n", 
    "def df_info(df):\n", 
    "    print(\"Shape: \", df.shape)\n", 
    "    print(\"dtypes: \", df.dtypes.to_dict())\n", 
    "    print(\"index dtype: \", df.index.dtype)\n", 
    "    return pd.concat([df.head(3), df.tail(3)])"
   ], 
   "outputs": [], 
   "metadata": {
    "collapsed": false
   }
  }, 
  {
   "source": [
    "## Quandl <a id=data></a>\n", 
    "\n", 
    "[quandl](https://www.quandl.com) is a company that collects and maintains financial and economic data from standard sources (e.g. FRED, IMF, BEA, etc.) and non-standard sources (Fx data, company level data, trader receipts). The data is viewable on their webpage (see [here](https://www.quandl.com/data/BLSN-BLS-International) or [there](https://www.quandl.com/data/USTREASURY-US-Treasury) for examples), but made available to programming languages via their API. We will access their [API](https://www.quandl.com/docs/api#introduction) using their [python library](https://www.quandl.com/tools/python).\n", 
    "\n", 
    "Suppose, for example, that we wanted to get data on taxes in the US. Here's how we might find some:\n", 
    "\n", 
    "- Open up the quandl [search page](https://www.quandl.com/search)\n", 
    "- Type in [\"US tax revenue\"](https://www.quandl.com/search)\n", 
    "- Click on [one of the results](https://www.quandl.com/data/OECD/REV_NES_TOTALTAX_TAXUSD_USA-United-States-Total-Total-Tax-Revenue-Total-Tax-Revenue-In-Usd) that seems interesting to us\n", 
    "- Checkout things like the frequency (Annual for this data set), the quandl code (top right, here it is `OECD/REV_NES_TOTALTAX_TAXUSD_USA`) and description."
   ], 
   "cell_type": "markdown", 
   "metadata": {}
  }, 
  {
   "source": [
    "**Exercise** (5 min): Go to Quandl's website and explore some of the data quandl has available. Come up with 2 datasets and make a dictionary that maps the quandl code into a reasonable name. For example, for the us tax revenue dataset above I could have done\n", 
    "\n", 
    "```python\n", 
    "my_data = {\"OECD/REV_NES_TOTALTAX_TAXUSD_USA\": \"US_tax_rev\"}\n", 
    "```"
   ], 
   "cell_type": "markdown", 
   "metadata": {}
  }, 
  {
   "execution_count": null, 
   "cell_type": "code", 
   "source": [], 
   "outputs": [], 
   "metadata": {
    "collapsed": true
   }
  }, 
  {
   "source": [
    "We can download the data using the `quandl.get` function and passing it one of the Quandl codes we collected in the previous exercise"
   ], 
   "cell_type": "markdown", 
   "metadata": {}
  }, 
  {
   "execution_count": null, 
   "cell_type": "code", 
   "source": [
    "us_tax = quandl.get(\"OECD/REV_NES_TOTALTAX_TAXUSD_USA\")\n", 
    "df_info(us_tax)"
   ], 
   "outputs": [], 
   "metadata": {
    "collapsed": false
   }
  }, 
  {
   "source": [
    "We can also pass `start_date` and `end_date` parameters to control the dates for the downloaded data:"
   ], 
   "cell_type": "markdown", 
   "metadata": {}
  }, 
  {
   "execution_count": null, 
   "cell_type": "code", 
   "source": [
    "us_tax_recent = quandl.get(\"OECD/REV_NES_TOTALTAX_TAXUSD_USA\", start_date=\"2000-01-01\")\n", 
    "df_info(us_tax_recent)"
   ], 
   "outputs": [], 
   "metadata": {
    "collapsed": false
   }
  }, 
  {
   "source": [
    "Now, let's read in the data sets we found were interesting. Feel free to use the codes you looked up, or the ones I'm using here. "
   ], 
   "cell_type": "markdown", 
   "metadata": {}
  }, 
  {
   "execution_count": null, 
   "cell_type": "code", 
   "source": [
    "my_data = {\n", 
    "    \"FRED/DFF\": \"risk_free_rate\",\n", 
    "    \"NVCA/VENTURE_3_09C\": \"vc_investments\"\n", 
    "}\n", 
    "\n", 
    "dfs = []\n", 
    "\n", 
    "for k in my_data.keys():\n", 
    "    dfs.append(quandl.get(k))"
   ], 
   "outputs": [], 
   "metadata": {
    "collapsed": true
   }
  }, 
  {
   "execution_count": null, 
   "cell_type": "code", 
   "source": [
    "df_info(dfs[0])"
   ], 
   "outputs": [], 
   "metadata": {
    "collapsed": false
   }
  }, 
  {
   "execution_count": null, 
   "cell_type": "code", 
   "source": [
    "df_info(dfs[1])"
   ], 
   "outputs": [], 
   "metadata": {
    "collapsed": false
   }
  }, 
  {
   "source": [
    "So, `\"FRED/DFF\"` is the [federal funds rate](https://fred.stlouisfed.org/series/FEDFUNDS), or the interest rate at which banks can trade federal assets with eachother overnight. This is often used as a proxy for the risk free rate i economic analysis. \n", 
    "\n", 
    "From the printout above it looks like we have more than 22k observations starting in 1954 at a daily frequency.\n", 
    "\n", 
    "Notice, however that the column name is `VALUE`. Let's use our dict to clean up that name:"
   ], 
   "cell_type": "markdown", 
   "metadata": {}
  }, 
  {
   "execution_count": null, 
   "cell_type": "code", 
   "source": [
    "dfs[0].rename(columns={\"VALUE\": my_data[\"FRED/DFF\"]}, inplace=True)\n", 
    "df_info(dfs[0])"
   ], 
   "outputs": [], 
   "metadata": {
    "collapsed": false
   }
  }, 
  {
   "source": [
    "The second dataframe we dowloaded (using code `NVCA/VENTURE_3_09C`) contains quarterly data on total investment by venture capital firms in the US, broken down by the stage of the project.\n", 
    "\n", 
    "The column names here are ok, so we don't need to change anything."
   ], 
   "cell_type": "markdown", 
   "metadata": {}
  }, 
  {
   "source": [
    "**Exercise (5 min)** do a simlar analysis/report for whatever datasets you chose to work with. Make sure to do the following:\n", 
    "\n", 
    "- Make note of the frequency of the data (e.g. daily, monthly, quarterly, yearly, etc.)\n", 
    "- Check the column names\n", 
    "\n", 
    "If you chose to use the same data as me, do something interesting with the data. Perhaps construct plots of differenet variables, or compute summary statistics -- use your imagination here."
   ], 
   "cell_type": "markdown", 
   "metadata": {}
  }, 
  {
   "execution_count": null, 
   "cell_type": "code", 
   "source": [], 
   "outputs": [], 
   "metadata": {
    "collapsed": true
   }
  }, 
  {
   "source": [
    "So that we have the data easily acessible for later on, let's store these two variables in individual dataframes:"
   ], 
   "cell_type": "markdown", 
   "metadata": {}
  }, 
  {
   "execution_count": null, 
   "cell_type": "code", 
   "source": [
    "ffr = dfs[0]\n", 
    "vc = dfs[1]"
   ], 
   "outputs": [], 
   "metadata": {
    "collapsed": true
   }
  }, 
  {
   "source": [
    "## Dates in python <a id=datetime></a>"
   ], 
   "cell_type": "markdown", 
   "metadata": {}
  }, 
  {
   "source": [
    "The date and time functionality in python comes from the built in `datetime` module. Notice above that we ran\n", 
    "\n", 
    "```python\n", 
    "import datetime as dt\n", 
    "```\n", 
    "\n", 
    "We've been using the `dt.date.today()` function throughout this course when we print the date at the top of our notebooks, but we haven't given it very much thought. Let's take a closer look now.\n", 
    "\n", 
    "To start, let's see what the type of `dt.date.today()` is"
   ], 
   "cell_type": "markdown", 
   "metadata": {}
  }, 
  {
   "execution_count": null, 
   "cell_type": "code", 
   "source": [
    "today = dt.date.today()\n", 
    "print(\"the type of today is \", type(today))"
   ], 
   "outputs": [], 
   "metadata": {
    "collapsed": false
   }
  }, 
  {
   "source": [
    "Given that we have an object of type `datetime.date` we can do things like ask for the day, month, and year"
   ], 
   "cell_type": "markdown", 
   "metadata": {}
  }, 
  {
   "execution_count": null, 
   "cell_type": "code", 
   "source": [
    "print(\"the day of the month is: \", today.day)\n", 
    "print(\"we are curretly in month number\", today.month)\n", 
    "print(\"The year is\", today.year)"
   ], 
   "outputs": [], 
   "metadata": {
    "collapsed": false
   }
  }, 
  {
   "source": [
    "### timedelta\n", 
    "\n", 
    "Suppose that we wanted to construct a \"days until\" counter.\n", 
    "\n", 
    "To do this we will construct another `datetime.date` and use the `-` operator to find the differene between the other date and today."
   ], 
   "cell_type": "markdown", 
   "metadata": {}
  }, 
  {
   "execution_count": null, 
   "cell_type": "code", 
   "source": [
    "# construct a date by hand\n", 
    "new_years_eve = dt.date(2016, 12, 31)"
   ], 
   "outputs": [], 
   "metadata": {
    "collapsed": true
   }
  }, 
  {
   "execution_count": null, 
   "cell_type": "code", 
   "source": [
    "until_nye = new_years_eve - today"
   ], 
   "outputs": [], 
   "metadata": {
    "collapsed": false
   }
  }, 
  {
   "execution_count": null, 
   "cell_type": "code", 
   "source": [
    "type(until_nye)"
   ], 
   "outputs": [], 
   "metadata": {
    "collapsed": false
   }
  }, 
  {
   "source": [
    "We can get the number of days until new years eve by looking at `until_nye.days`"
   ], 
   "cell_type": "markdown", 
   "metadata": {}
  }, 
  {
   "execution_count": null, 
   "cell_type": "code", 
   "source": [
    "until_nye.days"
   ], 
   "outputs": [], 
   "metadata": {
    "collapsed": false
   }
  }, 
  {
   "source": [
    "**Exercise (5 min)**: write a python function named `days_until` that accepts one argument (a `datetime.date`) and returns the number of days between today and that date. Apply your function to \n", 
    "\n", 
    "- December 15, 2016 (day the UG project is due)\n", 
    "- Your birthday (HINT: unless your birthday is in late December, make sure to do 2017 as the year)"
   ], 
   "cell_type": "markdown", 
   "metadata": {}
  }, 
  {
   "execution_count": null, 
   "cell_type": "code", 
   "source": [], 
   "outputs": [], 
   "metadata": {
    "collapsed": true
   }
  }, 
  {
   "source": [
    "We could also construct a `datetime.timedelta` by hand and add it to an existing date. Here's an example to see how many days until Spencer turns 30"
   ], 
   "cell_type": "markdown", 
   "metadata": {}
  }, 
  {
   "execution_count": null, 
   "cell_type": "code", 
   "source": [
    "spencer_bday = dt.date(1989, 4, 25)\n", 
    "\n", 
    "# NOTE: add 7 for the 7 leap years between 1989 and 2019\n", 
    "thirty_years = dt.timedelta(days=365*30 + 7)"
   ], 
   "outputs": [], 
   "metadata": {
    "collapsed": true
   }
  }, 
  {
   "execution_count": null, 
   "cell_type": "code", 
   "source": [
    "# check to make sure it is still April 25th\n", 
    "spencer_bday + thirty_years"
   ], 
   "outputs": [], 
   "metadata": {
    "collapsed": false
   }
  }, 
  {
   "execution_count": null, 
   "cell_type": "code", 
   "source": [
    "days_to_30 = (spencer_bday + thirty_years - today).days\n", 
    "print(\"Spencer will be 30 in {} days\".format(days_to_30))"
   ], 
   "outputs": [], 
   "metadata": {
    "collapsed": false
   }
  }, 
  {
   "source": [
    "### datetime\n", 
    "\n", 
    "Being able to work with dates and the difference between dates is very useful, but sometimes we need to also think about times. To do that, we will look to the `dt.datetime` module.\n", 
    "\n", 
    "We can get the current date and time using `dt.datetime.now()`:"
   ], 
   "cell_type": "markdown", 
   "metadata": {}
  }, 
  {
   "execution_count": null, 
   "cell_type": "code", 
   "source": [
    "now = dt.datetime.now()\n", 
    "print(\"type of now:\", type(now))\n", 
    "now"
   ], 
   "outputs": [], 
   "metadata": {
    "collapsed": false
   }
  }, 
  {
   "source": [
    "The numbers in the printout above are `year`, `month`, `day`, `hour`, `minute`, `second`, `millisecond`.\n", 
    "\n", 
    "Because we still have day, month, year information ; we can access these properties just as we did for the `today`  above:"
   ], 
   "cell_type": "markdown", 
   "metadata": {}
  }, 
  {
   "execution_count": null, 
   "cell_type": "code", 
   "source": [
    "print(\"the day of the month is: \", now.day)\n", 
    "print(\"we are curretly in month number\", now.month)\n", 
    "print(\"The year is\", now.year)"
   ], 
   "outputs": [], 
   "metadata": {
    "collapsed": false
   }
  }, 
  {
   "source": [
    "**Exercise (2 min)**: Use tab completion to see what else we can access on our `dt.datetime` object `now`"
   ], 
   "cell_type": "markdown", 
   "metadata": {}
  }, 
  {
   "execution_count": null, 
   "cell_type": "code", 
   "source": [], 
   "outputs": [], 
   "metadata": {
    "collapsed": true
   }
  }, 
  {
   "source": [
    "Time deltas work the same way with `datetime` objects as they did with `date` objects.\n", 
    "\n", 
    "We can see how many seconds until Spencer turns 30:"
   ], 
   "cell_type": "markdown", 
   "metadata": {}
  }, 
  {
   "execution_count": null, 
   "cell_type": "code", 
   "source": [
    "# NOTE: we can only do arithmetic between many date objects or datetime obejcts\n", 
    "#       we cannot add or subtract a datetime to/from a date. So, we need to \n", 
    "#       re-create spencer_bday as a datetime object. \n", 
    "# NOTE: The timedelta object is already compatible with date and datetime objects\n", 
    "spencer_bday_time = dt.datetime(1989, 4, 25, 16, 33, 5)\n", 
    "seconds_to_30 = (spencer_bday_time + thirty_years - now).seconds\n", 
    "\n", 
    "print(\"Spencer will be 30 in {} seconds\".format(seconds_to_30))"
   ], 
   "outputs": [], 
   "metadata": {
    "collapsed": false
   }
  }, 
  {
   "source": [
    "### strftime\n", 
    "\n", 
    "Once we have date and time information, a very common thing to do is to print out a formatted version of that date. For example, suppose we wanted to print out a string in the format `YYYY-MM-DD`. To do this we use the `strftime` method. Here's an example"
   ], 
   "cell_type": "markdown", 
   "metadata": {}
  }, 
  {
   "execution_count": null, 
   "cell_type": "code", 
   "source": [
    "print(today.strftime(\"Today is %Y-%m-%d\"))"
   ], 
   "outputs": [], 
   "metadata": {
    "collapsed": false
   }
  }, 
  {
   "source": [
    "Notice that the argument to `strftime` is a python string that can contain normal text (e.g. `Today is`) and a special formatters (the stuff starting with `%`). We haven't talked much about how to do string formatting, but in Python and many other languages using `%` inside strings has special meaning."
   ], 
   "cell_type": "markdown", 
   "metadata": {}
  }, 
  {
   "source": [
    "**Exercise (6 min)** Using the [documentation](https://docs.python.org/3.5/library/datetime.html#strftime-strptime-behavior) for the string formatting behavior, figure out how to write the following strings using the method `strftime` method on the `spencer_bday_time` object\n", 
    "\n", 
    "- \"Spencer was born on 1989-04-25\"\n", 
    "- \"Spencer was born on a Tuesday\"\n", 
    "- \"Spencer was born on Tuesday, April 25th\"\n", 
    "- (**bonus**) \"Spencer was born on Tuesday, April 25th at 04:33 PM\""
   ], 
   "cell_type": "markdown", 
   "metadata": {}
  }, 
  {
   "execution_count": null, 
   "cell_type": "code", 
   "source": [
    "spencer_bday_time.strftime(\"Spencer was born on %A, %B %dth at %I:%M %p\")"
   ], 
   "outputs": [], 
   "metadata": {
    "collapsed": false
   }
  }, 
  {
   "source": [
    "## Dates in Pandas <a id=pandas_dates></a>"
   ], 
   "cell_type": "markdown", 
   "metadata": {}
  }, 
  {
   "source": [
    "Now we will look at how to use date and dateime functionality in pandas.\n", 
    "\n", 
    "To begin, lets take a closer look at the type of index we have on our `ffr` and `vc` dataframes:"
   ], 
   "cell_type": "markdown", 
   "metadata": {
    "collapsed": true
   }
  }, 
  {
   "execution_count": null, 
   "cell_type": "code", 
   "source": [
    "type(ffr.index)"
   ], 
   "outputs": [], 
   "metadata": {
    "collapsed": false
   }
  }, 
  {
   "source": [
    "Here we have a `DatetimeIndex`, which menas pandas recogizes this DataFrame as containing time series data. \n", 
    "\n", 
    "What can we do now? A lot, here's a brief list:\n", 
    "\n", 
    "- `subset` the data using strings to get data for a particular time frame\n", 
    "- `resample` the data to a diffrent frequency: this means we could convert daily to monthly, quarterly, etc.\n", 
    "- quickly access things like `year`, `month`, and `day` for the observation\n", 
    "- rolling computations: this will allow us to compute statistics on a rolling subset of the data. We'll show a simple example here, but check out the [docs](http://pandas.pydata.org/pandas-docs/stable/computation.html#window-functions) for more info\n", 
    "- `snap` the observations to a particular frequency -- this one is a bit advanced and we won't cover it here\n", 
    "\n", 
    "For a much more comprehensive list with other examples see the [docs](http://pandas.pydata.org/pandas-docs/stable/timeseries.html#datetimeindex)\n", 
    "\n", 
    "For now, let's look at how to do these things with the data we obtained from quandl\n", 
    "\n", 
    "**NOTE** You can _only_ do these things when you have a `DatetimeIndex`. This means that even if one of the columns in your DataFrame has date or datetime information, you will need to set it as the index to access this functionality."
   ], 
   "cell_type": "markdown", 
   "metadata": {}
  }, 
  {
   "source": [
    "### subsetting \n", 
    "\n", 
    "Suppose we wanted to extract all the data for the federal funds rate for the year 2008."
   ], 
   "cell_type": "markdown", 
   "metadata": {}
  }, 
  {
   "execution_count": null, 
   "cell_type": "code", 
   "source": [
    "ffr2008 = ffr[\"2008\"]\n", 
    "print(\"ffr2008 is a\", type(ffr2008))\n", 
    "df_info(ffr2008)"
   ], 
   "outputs": [], 
   "metadata": {
    "collapsed": false
   }
  }, 
  {
   "execution_count": null, 
   "cell_type": "code", 
   "source": [
    "ffr2008.plot()"
   ], 
   "outputs": [], 
   "metadata": {
    "collapsed": false
   }
  }, 
  {
   "source": [
    "Suppose we want to restrict to September 2008:"
   ], 
   "cell_type": "markdown", 
   "metadata": {}
  }, 
  {
   "execution_count": null, 
   "cell_type": "code", 
   "source": [
    "ffr_sep2008 = ffr[\"2008-09\"]\n", 
    "df_info(ffr_sep2008)"
   ], 
   "outputs": [], 
   "metadata": {
    "collapsed": false
   }
  }, 
  {
   "source": [
    "We can use this same functionality to extract ranges of dates. To get the data starting in june 2007 and going until march 2011 we would do"
   ], 
   "cell_type": "markdown", 
   "metadata": {}
  }, 
  {
   "execution_count": null, 
   "cell_type": "code", 
   "source": [
    "ffr2 = ffr[\"2007-06\":\"2011-03\"]\n", 
    "df_info(ffr2)"
   ], 
   "outputs": [], 
   "metadata": {
    "collapsed": false
   }
  }, 
  {
   "execution_count": null, 
   "cell_type": "code", 
   "source": [
    "ffr2.plot()"
   ], 
   "outputs": [], 
   "metadata": {
    "collapsed": false
   }
  }, 
  {
   "source": [
    "**Exercise (3 min)** Using one of your datasets from quandl, plot one or more variables for the last 3 years (2013 through 2016)"
   ], 
   "cell_type": "markdown", 
   "metadata": {}
  }, 
  {
   "execution_count": null, 
   "cell_type": "code", 
   "source": [], 
   "outputs": [], 
   "metadata": {
    "collapsed": true
   }
  }, 
  {
   "source": [
    "### resampling\n", 
    "\n", 
    "Now suppose that instead of daily data, we wanted our federal funds data at a monthly frequency.\n", 
    "\n", 
    "To do this we use the `resample` method on our DataFrame"
   ], 
   "cell_type": "markdown", 
   "metadata": {}
  }, 
  {
   "execution_count": null, 
   "cell_type": "code", 
   "source": [
    "# MS means \"month start\"\n", 
    "ffrM_resample = ffr.resample(\"MS\")\n", 
    "type(ffrM_resample)"
   ], 
   "outputs": [], 
   "metadata": {
    "collapsed": false
   }
  }, 
  {
   "source": [
    "Notice that when we call `resample` we don't get back a DataFrame at that frequency. This is because there is some ambiguity regarding just _how_ the frequency should be converted: should we take the average during the period, the first observation, last observation, sum the observations?\n", 
    "\n", 
    "In order to get a DataFrame we have to call a method on our `DatetimeIndexResampler` object. For this example, let's do the first observation in each period:"
   ], 
   "cell_type": "markdown", 
   "metadata": {}
  }, 
  {
   "execution_count": null, 
   "cell_type": "code", 
   "source": [
    "ffrM = ffrM_resample.first()\n", 
    "df_info(ffrM)"
   ], 
   "outputs": [], 
   "metadata": {
    "collapsed": false
   }
  }, 
  {
   "source": [
    "Note that we can also combine numbers with the specification of the resampling frequency. As an example, we can resample to a bi-weekly frequency using"
   ], 
   "cell_type": "markdown", 
   "metadata": {}
  }, 
  {
   "execution_count": null, 
   "cell_type": "code", 
   "source": [
    "ffr.resample(\"2w\")"
   ], 
   "outputs": [], 
   "metadata": {
    "collapsed": false
   }
  }, 
  {
   "source": [
    "**Exercise (5 min)**: Using the [documentation](http://pandas.pydata.org/pandas-docs/stable/timeseries.html#offset-aliases) for the most common frequencies, figure out how to resample one of your datasets to \n", 
    "\n", 
    "- A quarterly frequency -- make sure to get the _start_ of the quarter\n", 
    "- An annual frequency -- use the end of the _year_"
   ], 
   "cell_type": "markdown", 
   "metadata": {}
  }, 
  {
   "source": [
    "**more than you need**: I want to point out that when you use the `first` or `last` methods to perform the aggregations, there are two dates involved: (1) the date the resultant index will have and (2) the date used to fill in the data at that date. The first date (one on the index) will be assigned based on the string you pass to the `resample` method. The second date (the one for extracting data from the original dataframe) will be determined based on the method used to do the aggregation. `first` will extract the first data point from that subset and `last` will extract the last.\n", 
    "\n", 
    "Let's see some examples:"
   ], 
   "cell_type": "markdown", 
   "metadata": {}
  }, 
  {
   "execution_count": null, 
   "cell_type": "code", 
   "source": [
    "ffr.resample(\"M\").first().head()"
   ], 
   "outputs": [], 
   "metadata": {
    "collapsed": false
   }
  }, 
  {
   "execution_count": null, 
   "cell_type": "code", 
   "source": [
    "ffr.resample(\"M\").last().head()"
   ], 
   "outputs": [], 
   "metadata": {
    "collapsed": false
   }
  }, 
  {
   "source": [
    "Notice that the index is the same on both, but the data is clearly different.\n", 
    "\n", 
    "If we use `MS` instead of `M` we will have the index based on the first day of the month:"
   ], 
   "cell_type": "markdown", 
   "metadata": {}
  }, 
  {
   "execution_count": null, 
   "cell_type": "code", 
   "source": [
    "ffr.resample(\"MS\").first().head()"
   ], 
   "outputs": [], 
   "metadata": {
    "collapsed": false
   }
  }, 
  {
   "execution_count": null, 
   "cell_type": "code", 
   "source": [
    "ffr.resample(\"MS\").last().head()"
   ], 
   "outputs": [], 
   "metadata": {
    "collapsed": false
   }
  }, 
  {
   "source": [
    "Notice how the data associated with `\"M\"` and `first` is the same as the data for `\"MS\"` and `first`. The same holds for `last`."
   ], 
   "cell_type": "markdown", 
   "metadata": {}
  }, 
  {
   "source": [
    "### Access year, month, day...\n", 
    "\n", 
    "Given a `DatetimeIndex` you can access the day, month, or year (also second, millisecond, etc.) by simply accessing the `.XX` property; where `XX` is the data you want"
   ], 
   "cell_type": "markdown", 
   "metadata": {}
  }, 
  {
   "execution_count": null, 
   "cell_type": "code", 
   "source": [
    "ffr.index.year"
   ], 
   "outputs": [], 
   "metadata": {
    "collapsed": false
   }
  }, 
  {
   "execution_count": null, 
   "cell_type": "code", 
   "source": [
    "ffr.index.day"
   ], 
   "outputs": [], 
   "metadata": {
    "collapsed": false
   }
  }, 
  {
   "execution_count": null, 
   "cell_type": "code", 
   "source": [
    "ffr.index.month"
   ], 
   "outputs": [], 
   "metadata": {
    "collapsed": false
   }
  }, 
  {
   "source": [
    "### Rolling computations\n", 
    "\n", 
    "We can use pandas to do rolling computations.\n", 
    "\n", 
    "For example, suppose we **want** to plot the maximum and minimum of the risk free rate within the past week at each date (think about that slowly -- for every date, we want to look back 7 days and compute the max).\n", 
    "\n", 
    "Here's how we can do that"
   ], 
   "cell_type": "markdown", 
   "metadata": {}
  }, 
  {
   "execution_count": null, 
   "cell_type": "code", 
   "source": [
    "fig, ax = plt.subplots()\n", 
    "ffr.rolling(window=7).max().plot(ax=ax)\n", 
    "ffr.rolling(window=7).min().plot(ax=ax)\n", 
    "ax.legend([\"max\", \"min\"])"
   ], 
   "outputs": [], 
   "metadata": {
    "collapsed": false
   }
  }, 
  {
   "source": [
    "Note that this is different from just resampling because we will have an observation for every date in the original dataframe (except the number of dates at the front needed to construct the initial window)."
   ], 
   "cell_type": "markdown", 
   "metadata": {}
  }, 
  {
   "execution_count": null, 
   "cell_type": "code", 
   "source": [
    "ffr.rolling(window=7).max().head(10)"
   ], 
   "outputs": [], 
   "metadata": {
    "collapsed": false
   }
  }, 
  {
   "execution_count": null, 
   "cell_type": "code", 
   "source": [
    "ffr.resample(\"7D\").max().head(10)"
   ], 
   "outputs": [], 
   "metadata": {
    "collapsed": false
   }
  }, 
  {
   "source": [
    "### Merging with dates\n", 
    "\n", 
    "Let's see what happens when we merge the ffr and vc datasets"
   ], 
   "cell_type": "markdown", 
   "metadata": {}
  }, 
  {
   "execution_count": null, 
   "cell_type": "code", 
   "source": [
    "# do a left merge on the index (date info)\n", 
    "df = pd.merge(ffr, vc, left_index=True, right_index=True, how=\"left\")\n", 
    "df_info(df)"
   ], 
   "outputs": [], 
   "metadata": {
    "collapsed": false
   }
  }, 
  {
   "execution_count": null, 
   "cell_type": "code", 
   "source": [
    "vc.head()"
   ], 
   "outputs": [], 
   "metadata": {
    "collapsed": false
   }
  }, 
  {
   "source": [
    "Notice that we ended up with a lot of missing data. This happened for two reasons:\n", 
    "\n", 
    "1. The ffr data goes back to 1954, but the vc data starts in 1985\n", 
    "2. The ffr data is at a daily frequency, but vc is at quarterly.\n", 
    "\n", 
    "To resolve the first issue we can subset the ffr data and only keep from 1985 on"
   ], 
   "cell_type": "markdown", 
   "metadata": {}
  }, 
  {
   "execution_count": null, 
   "cell_type": "code", 
   "source": [
    "ffr_recent = ffr[\"1985\":]"
   ], 
   "outputs": [], 
   "metadata": {
    "collapsed": false
   }
  }, 
  {
   "source": [
    "To resolve the second issue we will do two-steps:\n", 
    "\n", 
    "1. resample the `ffr` data to a monthly frequency\n", 
    "2. resample the `vc` data to a monthly frequency by _padding_. This is called upsampling because we are going from a lower frequency (quarterly) to a higher one (monthly)"
   ], 
   "cell_type": "markdown", 
   "metadata": {}
  }, 
  {
   "execution_count": null, 
   "cell_type": "code", 
   "source": [
    "ffr_recentM = ffr_recent.resample(\"M\").first()\n", 
    "vc_M = vc.resample(\"M\").pad()"
   ], 
   "outputs": [], 
   "metadata": {
    "collapsed": true
   }
  }, 
  {
   "execution_count": null, 
   "cell_type": "code", 
   "source": [
    "vc_M.head()"
   ], 
   "outputs": [], 
   "metadata": {
    "collapsed": false
   }
  }, 
  {
   "source": [
    "Notice that using `pad` here just copied data forwards to fill in missing months (e.g. the data for March 1985 was applied to April and May)"
   ], 
   "cell_type": "markdown", 
   "metadata": {}
  }, 
  {
   "source": [
    "Now let's try that merge again"
   ], 
   "cell_type": "markdown", 
   "metadata": {}
  }, 
  {
   "execution_count": null, 
   "cell_type": "code", 
   "source": [
    "df = pd.merge(ffr_recentM, vc_M, left_index=True, right_index=True, how=\"left\")\n", 
    "print(df.head(6))\n", 
    "print(\"\\n\\n\", df.tail(8))"
   ], 
   "outputs": [], 
   "metadata": {
    "collapsed": false
   }
  }, 
  {
   "source": [
    "That looks much better -- we have missing data at the top and the bottom for months that aren't available in the venture capital dataset, but nothing else should be missing."
   ], 
   "cell_type": "markdown", 
   "metadata": {}
  }, 
  {
   "source": [
    "Let's try to do something interesting with this data. We **want** to plot the growth rate in the risk free rate, early stage vc funding, and total vc funding for the months following the start of the dotcom boom (rougly Jan 1995) and the housing boom (roughly Jan 2004). \n", 
    "\n", 
    "Read that again carefully. \n", 
    "\n", 
    "For each of the three series we want 2 lines. For each line, the x axis will be quarters since start of boom. The y axis growth rates since first month of bubble."
   ], 
   "cell_type": "markdown", 
   "metadata": {}
  }, 
  {
   "execution_count": null, 
   "cell_type": "code", 
   "source": [
    "# subset the data, then remove datetime index as we don't need it again\n", 
    "post_dotcom = df[\"1995\":].reset_index(drop=True)\n", 
    "post_housing = df[\"2004\":].reset_index(drop=True)\n", 
    "\n", 
    "# take logs so we can do growth rates as log(x_{t+N}) - log(x_t)\n", 
    "post_dotcom = np.log(post_dotcom)\n", 
    "post_housing = np.log(post_housing)\n", 
    "\n", 
    "dotcom_growth = post_dotcom - post_dotcom.iloc[0, :]\n", 
    "housing_growth = post_housing - post_housing.iloc[0, :]"
   ], 
   "outputs": [], 
   "metadata": {
    "collapsed": true
   }
  }, 
  {
   "execution_count": null, 
   "cell_type": "code", 
   "source": [
    "fig, axs = plt.subplots(3, 1, figsize=(10, 5))\n", 
    "\n", 
    "variables = [\"risk_free_rate\", \"Early Stage\", \"Total\"]\n", 
    "\n", 
    "for i in range(len(variables)):\n", 
    "    var = variables[i]\n", 
    "    \n", 
    "    # add dotcom line\n", 
    "    dotcom_growth[var].plot(ax=axs[i])\n", 
    "    \n", 
    "    # add housing line\n", 
    "    housing_growth[var].plot(ax=axs[i])\n", 
    "    \n", 
    "    # set title\n", 
    "    axs[i].set_title(var)\n", 
    "\n", 
    "# set legend and xlabel on last plot only\n", 
    "axs[-1].legend([\"dotcom\", \"housing\"])\n", 
    "axs[-1].set_xlabel(\"Quarters since boom\")\n", 
    "        \n", 
    "# make subplots not overlap\n", 
    "fig.tight_layout()"
   ], 
   "outputs": [], 
   "metadata": {
    "collapsed": false
   }
  }, 
  {
   "source": [
    "So we see that these booms were qualitatively different in terms of the response of the risk free rate and venture capital funding."
   ], 
   "cell_type": "markdown", 
   "metadata": {}
  }, 
  {
   "execution_count": null, 
   "cell_type": "code", 
   "source": [], 
   "outputs": [], 
   "metadata": {
    "collapsed": true
   }
  }
 ], 
 "metadata": {
  "kernelspec": {
   "display_name": "Python [conda root]", 
   "name": "conda-root-py", 
   "language": "python"
  }, 
  "anaconda-cloud": {}
 }
}